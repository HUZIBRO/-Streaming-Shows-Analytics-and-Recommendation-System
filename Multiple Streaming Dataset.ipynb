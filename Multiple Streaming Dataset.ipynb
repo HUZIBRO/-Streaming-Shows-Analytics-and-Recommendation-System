{
 "cells": [
  {
   "cell_type": "code",
   "execution_count": 59,
   "metadata": {},
   "outputs": [],
   "source": [
    "import pandas as pd \n",
    "import matplotlib.pyplot as plt \n",
    "import seaborn as sns\n",
    "import plotly.express as px\n",
    "\n",
    "\n",
    "pd.set_option('display.max_rows', None)\n",
    "pd.set_option('display.max_columns', None)\n",
    "pd.set_option('display.width', None)\n",
    "pd.set_option('display.max_colwidth', None)"
   ]
  },
  {
   "cell_type": "code",
   "execution_count": 60,
   "metadata": {},
   "outputs": [
    {
     "data": {
      "text/html": [
       "<div>\n",
       "<style scoped>\n",
       "    .dataframe tbody tr th:only-of-type {\n",
       "        vertical-align: middle;\n",
       "    }\n",
       "\n",
       "    .dataframe tbody tr th {\n",
       "        vertical-align: top;\n",
       "    }\n",
       "\n",
       "    .dataframe thead th {\n",
       "        text-align: right;\n",
       "    }\n",
       "</style>\n",
       "<table border=\"1\" class=\"dataframe\">\n",
       "  <thead>\n",
       "    <tr style=\"text-align: right;\">\n",
       "      <th></th>\n",
       "      <th>Series Title</th>\n",
       "      <th>Year Released</th>\n",
       "      <th>Content Rating</th>\n",
       "      <th>IMDB Rating</th>\n",
       "      <th>R Rating</th>\n",
       "      <th>Genre</th>\n",
       "      <th>Description</th>\n",
       "      <th>No of Seasons</th>\n",
       "      <th>Streaming Platform</th>\n",
       "    </tr>\n",
       "  </thead>\n",
       "  <tbody>\n",
       "    <tr>\n",
       "      <th>0</th>\n",
       "      <td>Breaking Bad</td>\n",
       "      <td>2008</td>\n",
       "      <td>18+</td>\n",
       "      <td>9.5</td>\n",
       "      <td>100</td>\n",
       "      <td>Crime,Drama</td>\n",
       "      <td>When Walter White, a New Mexico chemistry teacher, is diagnosed with Stage III cancer and given a prognosis of only two years left to live. He becomes filled with a sense of fearlessness and an unrelenting desire to secure his family's financial future at any cost as he enters the dangerous world of drugs and crime.Breaking Bad featuring Bryan Cranston and Aaron Paul has one or more episodes streaming with subscription on Netflix, available for purchase on iTunes, available for purchase on Google Play, and 3 others. It's a crime and drama show with 62 episodes over 5 seasons. Breaking Bad is no longer running and has no plans to air new episodes or seasons. It has a very high IMDb audience rating of 9.5 (1,391,409 votes) and was very well received by critics.</td>\n",
       "      <td>5Seasons</td>\n",
       "      <td>Netflix</td>\n",
       "    </tr>\n",
       "    <tr>\n",
       "      <th>1</th>\n",
       "      <td>Game of Thrones</td>\n",
       "      <td>2011</td>\n",
       "      <td>18+</td>\n",
       "      <td>9.3</td>\n",
       "      <td>99</td>\n",
       "      <td>Action &amp; Adventure,Drama</td>\n",
       "      <td>Seven noble families fight for control of the mythical land of Westeros. Friction between the houses leads to full-scale war. All while a very ancient evil awakens in the farthest north. Amidst the war, a neglected military order of misfits, the Night's Watch, is all that stands between the realms of men and icy horrors beyond.Game of Thrones featuring Emilia Clarke and Lena Headey has one or more episodes streaming with subscription on HBO MAX, streaming on HBO, available for purchase on iTunes, and 5 others. It's an action &amp; adventure and drama show with 74 episodes over 8 seasons. Game of Thrones is no longer running and has no plans to air new episodes or seasons. It has a very high IMDb audience rating of 9.3 (1,704,731 votes) and was very well received by critics.</td>\n",
       "      <td>8Seasons</td>\n",
       "      <td>HBO MAX,HBO</td>\n",
       "    </tr>\n",
       "    <tr>\n",
       "      <th>2</th>\n",
       "      <td>Rick and Morty</td>\n",
       "      <td>2013</td>\n",
       "      <td>18+</td>\n",
       "      <td>9.2</td>\n",
       "      <td>97</td>\n",
       "      <td>Animation,Comedy</td>\n",
       "      <td>Rick is a mentally-unbalanced but scientifically-gifted old man who has recently reconnected with his family. He spends most of his time involving his young grandson Morty in dangerous, outlandish adventures throughout space and alternate universes. Compounded with Morty's already unstable family life, these events cause Morty much distress at home and school.Rick and Morty featuring Justin Roiland and Chris Parnell has one or more episodes streaming with subscription on HBO MAX, streaming with subscription on Hulu, streaming via tv everywhere with Adult Swim (Via Cable/Satellite Provider), and 8 others. It's an action &amp; adventure and animation show with 42 episodes over 4 seasons. Rick and Morty is still airing with no announced date for the next episode or season. It has a very high IMDb audience rating of 9.2 (354,057 votes) and was very well received by critics.</td>\n",
       "      <td>4Seasons</td>\n",
       "      <td>Free Services,HBO MAX,Hulu</td>\n",
       "    </tr>\n",
       "    <tr>\n",
       "      <th>3</th>\n",
       "      <td>Stranger Things</td>\n",
       "      <td>2016</td>\n",
       "      <td>16+</td>\n",
       "      <td>8.8</td>\n",
       "      <td>96</td>\n",
       "      <td>Drama,Fantasy</td>\n",
       "      <td>When a young boy vanishes, a small town uncovers a mystery involving secret experiments, terrifying supernatural forces, and one strange little girl.Stranger Things featuring Winona Ryder and David Harbour has one or more episodes streaming with subscription on Netflix. It's an action &amp; adventure and drama show with 25 episodes over 3 seasons. Stranger Things is still airing with no announced date for the next episode or season. It has a high IMDb audience rating of 8.8 (766,806 votes) and was very well received by critics.</td>\n",
       "      <td>3Seasons</td>\n",
       "      <td>Netflix</td>\n",
       "    </tr>\n",
       "    <tr>\n",
       "      <th>4</th>\n",
       "      <td>The Boys</td>\n",
       "      <td>2019</td>\n",
       "      <td>18+</td>\n",
       "      <td>8.7</td>\n",
       "      <td>95</td>\n",
       "      <td>Action &amp; Adventure,Comedy</td>\n",
       "      <td>A group of vigilantes known informally as “The Boys” set out to take down corrupt superheroes with no more than blue-collar grit and a willingness to fight dirty.The Boys featuring Karl Urban and Jack Quaid has one or more episodes streaming with subscription on Prime Video, and available for purchase on VUDU. It's an action &amp; adventure and comedy show with 12 episodes over 2 seasons. The Boys has a new episode airing on September 17th, 2020 (PDT). It has a high IMDb audience rating of 8.7 (170,705 votes) and was very well received by critics.</td>\n",
       "      <td>2Seasons</td>\n",
       "      <td>Prime Video</td>\n",
       "    </tr>\n",
       "  </tbody>\n",
       "</table>\n",
       "</div>"
      ],
      "text/plain": [
       "      Series Title  Year Released Content Rating  IMDB Rating  R Rating  \\\n",
       "0     Breaking Bad           2008            18+          9.5       100   \n",
       "1  Game of Thrones           2011            18+          9.3        99   \n",
       "2   Rick and Morty           2013            18+          9.2        97   \n",
       "3  Stranger Things           2016            16+          8.8        96   \n",
       "4         The Boys           2019            18+          8.7        95   \n",
       "\n",
       "                       Genre  \\\n",
       "0                Crime,Drama   \n",
       "1   Action & Adventure,Drama   \n",
       "2           Animation,Comedy   \n",
       "3              Drama,Fantasy   \n",
       "4  Action & Adventure,Comedy   \n",
       "\n",
       "                                                                                                                                                                                                                                                                                                                                                                                                                                                                                                                                                                                                                                                                                                                                                                                                                                                                                                      Description  \\\n",
       "0                                                                                                               When Walter White, a New Mexico chemistry teacher, is diagnosed with Stage III cancer and given a prognosis of only two years left to live. He becomes filled with a sense of fearlessness and an unrelenting desire to secure his family's financial future at any cost as he enters the dangerous world of drugs and crime.Breaking Bad featuring Bryan Cranston and Aaron Paul has one or more episodes streaming with subscription on Netflix, available for purchase on iTunes, available for purchase on Google Play, and 3 others. It's a crime and drama show with 62 episodes over 5 seasons. Breaking Bad is no longer running and has no plans to air new episodes or seasons. It has a very high IMDb audience rating of 9.5 (1,391,409 votes) and was very well received by critics.   \n",
       "1                                                                                                    Seven noble families fight for control of the mythical land of Westeros. Friction between the houses leads to full-scale war. All while a very ancient evil awakens in the farthest north. Amidst the war, a neglected military order of misfits, the Night's Watch, is all that stands between the realms of men and icy horrors beyond.Game of Thrones featuring Emilia Clarke and Lena Headey has one or more episodes streaming with subscription on HBO MAX, streaming on HBO, available for purchase on iTunes, and 5 others. It's an action & adventure and drama show with 74 episodes over 8 seasons. Game of Thrones is no longer running and has no plans to air new episodes or seasons. It has a very high IMDb audience rating of 9.3 (1,704,731 votes) and was very well received by critics.   \n",
       "2  Rick is a mentally-unbalanced but scientifically-gifted old man who has recently reconnected with his family. He spends most of his time involving his young grandson Morty in dangerous, outlandish adventures throughout space and alternate universes. Compounded with Morty's already unstable family life, these events cause Morty much distress at home and school.Rick and Morty featuring Justin Roiland and Chris Parnell has one or more episodes streaming with subscription on HBO MAX, streaming with subscription on Hulu, streaming via tv everywhere with Adult Swim (Via Cable/Satellite Provider), and 8 others. It's an action & adventure and animation show with 42 episodes over 4 seasons. Rick and Morty is still airing with no announced date for the next episode or season. It has a very high IMDb audience rating of 9.2 (354,057 votes) and was very well received by critics.   \n",
       "3                                                                                                                                                                                                                                                                                                                                                               When a young boy vanishes, a small town uncovers a mystery involving secret experiments, terrifying supernatural forces, and one strange little girl.Stranger Things featuring Winona Ryder and David Harbour has one or more episodes streaming with subscription on Netflix. It's an action & adventure and drama show with 25 episodes over 3 seasons. Stranger Things is still airing with no announced date for the next episode or season. It has a high IMDb audience rating of 8.8 (766,806 votes) and was very well received by critics.   \n",
       "4                                                                                                                                                                                                                                                                                                                                           A group of vigilantes known informally as “The Boys” set out to take down corrupt superheroes with no more than blue-collar grit and a willingness to fight dirty.The Boys featuring Karl Urban and Jack Quaid has one or more episodes streaming with subscription on Prime Video, and available for purchase on VUDU. It's an action & adventure and comedy show with 12 episodes over 2 seasons. The Boys has a new episode airing on September 17th, 2020 (PDT). It has a high IMDb audience rating of 8.7 (170,705 votes) and was very well received by critics.   \n",
       "\n",
       "  No of Seasons          Streaming Platform  \n",
       "0      5Seasons                     Netflix  \n",
       "1      8Seasons                 HBO MAX,HBO  \n",
       "2      4Seasons  Free Services,HBO MAX,Hulu  \n",
       "3      3Seasons                     Netflix  \n",
       "4      2Seasons                 Prime Video  "
      ]
     },
     "execution_count": 60,
     "metadata": {},
     "output_type": "execute_result"
    }
   ],
   "source": [
    "dataset = pd.read_csv(\"All_Streaming_Shows.csv\")\n",
    "\n",
    "dataset.head()"
   ]
  },
  {
   "cell_type": "code",
   "execution_count": 61,
   "metadata": {},
   "outputs": [
    {
     "name": "stdout",
     "output_type": "stream",
     "text": [
      "<class 'pandas.core.frame.DataFrame'>\n",
      "RangeIndex: 12353 entries, 0 to 12352\n",
      "Data columns (total 9 columns):\n",
      " #   Column              Non-Null Count  Dtype  \n",
      "---  ------              --------------  -----  \n",
      " 0   Series Title        12353 non-null  object \n",
      " 1   Year Released       12353 non-null  int64  \n",
      " 2   Content Rating      7232 non-null   object \n",
      " 3   IMDB Rating         10207 non-null  float64\n",
      " 4   R Rating            12353 non-null  int64  \n",
      " 5   Genre               12353 non-null  object \n",
      " 6   Description         12353 non-null  object \n",
      " 7   No of Seasons       12353 non-null  object \n",
      " 8   Streaming Platform  10370 non-null  object \n",
      "dtypes: float64(1), int64(2), object(6)\n",
      "memory usage: 868.7+ KB\n"
     ]
    }
   ],
   "source": [
    "# Getting Description about the datasets Features \n",
    "\n",
    "dataset.info()"
   ]
  },
  {
   "cell_type": "code",
   "execution_count": 62,
   "metadata": {},
   "outputs": [
    {
     "data": {
      "text/plain": [
       "Series Title             0\n",
       "Year Released            0\n",
       "Content Rating        5121\n",
       "IMDB Rating           2146\n",
       "R Rating                 0\n",
       "Genre                    0\n",
       "Description              0\n",
       "No of Seasons            0\n",
       "Streaming Platform    1983\n",
       "dtype: int64"
      ]
     },
     "execution_count": 62,
     "metadata": {},
     "output_type": "execute_result"
    }
   ],
   "source": [
    "# Checking For Missing Values\n",
    "dataset.isna().sum()"
   ]
  },
  {
   "cell_type": "code",
   "execution_count": 63,
   "metadata": {},
   "outputs": [
    {
     "name": "stdout",
     "output_type": "stream",
     "text": [
      "Total No of Features (Columns): 9\n",
      "Total No of Rows (Data): 12353\n"
     ]
    }
   ],
   "source": [
    "print(f\"Total No of Features (Columns): {dataset.shape[1]}\")\n",
    "print(f\"Total No of Rows (Data): {dataset.shape[0]}\")"
   ]
  },
  {
   "cell_type": "code",
   "execution_count": 64,
   "metadata": {},
   "outputs": [
    {
     "name": "stdout",
     "output_type": "stream",
     "text": [
      "<class 'pandas.core.frame.DataFrame'>\n",
      "RangeIndex: 12353 entries, 0 to 12352\n",
      "Data columns (total 9 columns):\n",
      " #   Column              Non-Null Count  Dtype  \n",
      "---  ------              --------------  -----  \n",
      " 0   Series Title        12353 non-null  object \n",
      " 1   Year Released       12353 non-null  int64  \n",
      " 2   Content Rating      12353 non-null  object \n",
      " 3   IMDB Rating         12353 non-null  float64\n",
      " 4   R Rating            12353 non-null  int64  \n",
      " 5   Genre               12353 non-null  object \n",
      " 6   Description         12353 non-null  object \n",
      " 7   No of Seasons       12353 non-null  object \n",
      " 8   Streaming Platform  12353 non-null  object \n",
      "dtypes: float64(1), int64(2), object(6)\n",
      "memory usage: 868.7+ KB\n"
     ]
    }
   ],
   "source": [
    "# Now Dealing with the Null Values\n",
    "#\n",
    "# Replacing Content Rating Null Values with 'No Value'\n",
    "# Replacing IMDB Rating Null Values with '0'\n",
    "# Replacing Streaming Platform Null Values with 'No Value'\n",
    "\n",
    "dataset[\"Content Rating\"] = dataset[\"Content Rating\"].fillna(\"No Value\")\n",
    "dataset[\"IMDB Rating\"] = dataset[\"IMDB Rating\"].fillna(0)\n",
    "dataset[\"Streaming Platform\"] = dataset[\"Streaming Platform\"].fillna(\"No Value\")\n",
    "\n",
    "\n",
    "# Getting the Missing Values Report After Dealing with the Missing Data\n",
    "\n",
    "dataset.info()"
   ]
  },
  {
   "cell_type": "code",
   "execution_count": 65,
   "metadata": {},
   "outputs": [
    {
     "name": "stdout",
     "output_type": "stream",
     "text": [
      "We have 86 Years Data of Web Series from 1901 till 2020\n"
     ]
    }
   ],
   "source": [
    "# how many years data we have\n",
    "\n",
    "total_years = sorted(dataset[\"Year Released\"].unique())\n",
    "\n",
    "print(\"We have\",len(total_years),f\"Years Data of Web Series from {total_years[0]} till {total_years[-1]}\")"
   ]
  },
  {
   "cell_type": "code",
   "execution_count": 66,
   "metadata": {},
   "outputs": [
    {
     "data": {
      "text/html": [
       "<div>\n",
       "<style scoped>\n",
       "    .dataframe tbody tr th:only-of-type {\n",
       "        vertical-align: middle;\n",
       "    }\n",
       "\n",
       "    .dataframe tbody tr th {\n",
       "        vertical-align: top;\n",
       "    }\n",
       "\n",
       "    .dataframe thead th {\n",
       "        text-align: right;\n",
       "    }\n",
       "</style>\n",
       "<table border=\"1\" class=\"dataframe\">\n",
       "  <thead>\n",
       "    <tr style=\"text-align: right;\">\n",
       "      <th></th>\n",
       "      <th>Series Title</th>\n",
       "      <th>Year Released</th>\n",
       "      <th>Content Rating</th>\n",
       "      <th>IMDB Rating</th>\n",
       "      <th>R Rating</th>\n",
       "      <th>Genre</th>\n",
       "      <th>Description</th>\n",
       "      <th>No of Seasons</th>\n",
       "      <th>Streaming Platform</th>\n",
       "    </tr>\n",
       "  </thead>\n",
       "  <tbody>\n",
       "    <tr>\n",
       "      <th>0</th>\n",
       "      <td>Breaking Bad</td>\n",
       "      <td>2008</td>\n",
       "      <td>18+</td>\n",
       "      <td>9.5</td>\n",
       "      <td>100</td>\n",
       "      <td>Crime,Drama</td>\n",
       "      <td>When Walter White, a New Mexico chemistry teacher, is diagnosed with Stage III cancer and given a prognosis of only two years left to live. He becomes filled with a sense of fearlessness and an unrelenting desire to secure his family's financial future at any cost as he enters the dangerous world of drugs and crime.Breaking Bad featuring Bryan Cranston and Aaron Paul has one or more episodes streaming with subscription on Netflix, available for purchase on iTunes, available for purchase on Google Play, and 3 others. It's a crime and drama show with 62 episodes over 5 seasons. Breaking Bad is no longer running and has no plans to air new episodes or seasons. It has a very high IMDb audience rating of 9.5 (1,391,409 votes) and was very well received by critics.</td>\n",
       "      <td>5Seasons</td>\n",
       "      <td>Netflix</td>\n",
       "    </tr>\n",
       "    <tr>\n",
       "      <th>1</th>\n",
       "      <td>Game of Thrones</td>\n",
       "      <td>2011</td>\n",
       "      <td>18+</td>\n",
       "      <td>9.3</td>\n",
       "      <td>99</td>\n",
       "      <td>Action &amp; Adventure,Drama</td>\n",
       "      <td>Seven noble families fight for control of the mythical land of Westeros. Friction between the houses leads to full-scale war. All while a very ancient evil awakens in the farthest north. Amidst the war, a neglected military order of misfits, the Night's Watch, is all that stands between the realms of men and icy horrors beyond.Game of Thrones featuring Emilia Clarke and Lena Headey has one or more episodes streaming with subscription on HBO MAX, streaming on HBO, available for purchase on iTunes, and 5 others. It's an action &amp; adventure and drama show with 74 episodes over 8 seasons. Game of Thrones is no longer running and has no plans to air new episodes or seasons. It has a very high IMDb audience rating of 9.3 (1,704,731 votes) and was very well received by critics.</td>\n",
       "      <td>8Seasons</td>\n",
       "      <td>HBO MAX,HBO</td>\n",
       "    </tr>\n",
       "  </tbody>\n",
       "</table>\n",
       "</div>"
      ],
      "text/plain": [
       "      Series Title  Year Released Content Rating  IMDB Rating  R Rating  \\\n",
       "0     Breaking Bad           2008            18+          9.5       100   \n",
       "1  Game of Thrones           2011            18+          9.3        99   \n",
       "\n",
       "                      Genre  \\\n",
       "0               Crime,Drama   \n",
       "1  Action & Adventure,Drama   \n",
       "\n",
       "                                                                                                                                                                                                                                                                                                                                                                                                                                                                                                                                                                                                                                                                                                                                                                                                    Description  \\\n",
       "0             When Walter White, a New Mexico chemistry teacher, is diagnosed with Stage III cancer and given a prognosis of only two years left to live. He becomes filled with a sense of fearlessness and an unrelenting desire to secure his family's financial future at any cost as he enters the dangerous world of drugs and crime.Breaking Bad featuring Bryan Cranston and Aaron Paul has one or more episodes streaming with subscription on Netflix, available for purchase on iTunes, available for purchase on Google Play, and 3 others. It's a crime and drama show with 62 episodes over 5 seasons. Breaking Bad is no longer running and has no plans to air new episodes or seasons. It has a very high IMDb audience rating of 9.5 (1,391,409 votes) and was very well received by critics.   \n",
       "1  Seven noble families fight for control of the mythical land of Westeros. Friction between the houses leads to full-scale war. All while a very ancient evil awakens in the farthest north. Amidst the war, a neglected military order of misfits, the Night's Watch, is all that stands between the realms of men and icy horrors beyond.Game of Thrones featuring Emilia Clarke and Lena Headey has one or more episodes streaming with subscription on HBO MAX, streaming on HBO, available for purchase on iTunes, and 5 others. It's an action & adventure and drama show with 74 episodes over 8 seasons. Game of Thrones is no longer running and has no plans to air new episodes or seasons. It has a very high IMDb audience rating of 9.3 (1,704,731 votes) and was very well received by critics.   \n",
       "\n",
       "  No of Seasons Streaming Platform  \n",
       "0      5Seasons            Netflix  \n",
       "1      8Seasons        HBO MAX,HBO  "
      ]
     },
     "execution_count": 66,
     "metadata": {},
     "output_type": "execute_result"
    }
   ],
   "source": [
    "dataset.head(2)"
   ]
  },
  {
   "cell_type": "code",
   "execution_count": 67,
   "metadata": {},
   "outputs": [
    {
     "name": "stdout",
     "output_type": "stream",
     "text": [
      "Are there Any Missing Values: No\n",
      "Dataset Sorted from Latest to Old\n"
     ]
    }
   ],
   "source": [
    "# Now above we can see that in the No of Season the data is in wring format as the column \n",
    "# indicates that the entries should be No so it should be only Number not 5 Season instead 5 only\n",
    "# Lets Manipulate this Column\n",
    "\n",
    "dataset[\"No of Seasons\"] = dataset[\"No of Seasons\"].str.extract('(\\d+)')\n",
    "\n",
    "print(\"Are there Any Missing Values:\",[\"Yes\" if dataset.isna().sum().sum() else \"No\"][0])\n",
    "\n",
    "\n",
    "print(\"Dataset Sorted from Latest to Old\")\n",
    "dataset = dataset.sort_values(by=\"Year Released\",ignore_index=True,ascending=False)\n"
   ]
  },
  {
   "cell_type": "code",
   "execution_count": 68,
   "metadata": {},
   "outputs": [
    {
     "name": "stdout",
     "output_type": "stream",
     "text": [
      "Before Cleaning:  ['No Value', '16+', '18+', 'all', '7+', '13+']\n",
      "After Cleaning ['16+', '18+', 'all', '7+', '13+']\n"
     ]
    }
   ],
   "source": [
    "# Let See what are the Content Rating Columns have:\n",
    "\n",
    "print(\"Before Cleaning: \",list(dataset[\"Content Rating\"].unique()))\n",
    "# Dropping the rows having No Value in the Content Rating Column\n",
    "\n",
    "dataset = dataset[dataset[\"Content Rating\"] != \"No Value\"]\n",
    "\n",
    "print(\"After Cleaning\",list(dataset[\"Content Rating\"].unique()))"
   ]
  },
  {
   "cell_type": "code",
   "execution_count": 69,
   "metadata": {},
   "outputs": [
    {
     "data": {
      "text/plain": [
       "<Axes: xlabel='Content Rating', ylabel='count'>"
      ]
     },
     "execution_count": 69,
     "metadata": {},
     "output_type": "execute_result"
    },
    {
     "data": {
      "image/png": "[encoded data removed]",
      "text/plain": [
       "<Figure size 640x480 with 1 Axes>"
      ]
     },
     "metadata": {},
     "output_type": "display_data"
    }
   ],
   "source": [
    "# let us visualize the Content Rating that how much content is of which Rating\n",
    "\n",
    "sns.countplot(x=dataset[\"Content Rating\"])"
   ]
  },
  {
   "cell_type": "code",
   "execution_count": 70,
   "metadata": {},
   "outputs": [
    {
     "data": {
      "text/html": [
       "<div>\n",
       "<style scoped>\n",
       "    .dataframe tbody tr th:only-of-type {\n",
       "        vertical-align: middle;\n",
       "    }\n",
       "\n",
       "    .dataframe tbody tr th {\n",
       "        vertical-align: top;\n",
       "    }\n",
       "\n",
       "    .dataframe thead th {\n",
       "        text-align: right;\n",
       "    }\n",
       "</style>\n",
       "<table border=\"1\" class=\"dataframe\">\n",
       "  <thead>\n",
       "    <tr style=\"text-align: right;\">\n",
       "      <th></th>\n",
       "      <th>Series Title</th>\n",
       "      <th>Year Released</th>\n",
       "      <th>Content Rating</th>\n",
       "      <th>IMDB Rating</th>\n",
       "      <th>R Rating</th>\n",
       "      <th>Genre</th>\n",
       "      <th>Description</th>\n",
       "      <th>No of Seasons</th>\n",
       "      <th>Streaming Platform</th>\n",
       "    </tr>\n",
       "  </thead>\n",
       "  <tbody>\n",
       "    <tr>\n",
       "      <th>1</th>\n",
       "      <td>Pandemic: How to Prevent an Outbreak</td>\n",
       "      <td>2020</td>\n",
       "      <td>2</td>\n",
       "      <td>6.3</td>\n",
       "      <td>56</td>\n",
       "      <td>Documentary,2020</td>\n",
       "      <td>In this docuseries, meet the heroes on the front lines of the battle against influenza and learn about their efforts to stop the next global outbreak.Pandemic: How to Prevent an Outbreak featuring Syra Madad has one or more episodes streaming with subscription on Netflix. It's a documentary show with 6 episodes over 1 season. Pandemic: How to Prevent an Outbreak is no longer running and has no plans to air new episodes or seasons. It has an average IMDb audience rating of 6.3 (2,404 votes).</td>\n",
       "      <td>1</td>\n",
       "      <td>Netflix</td>\n",
       "    </tr>\n",
       "    <tr>\n",
       "      <th>2</th>\n",
       "      <td>I May Destroy You</td>\n",
       "      <td>2020</td>\n",
       "      <td>3</td>\n",
       "      <td>8.1</td>\n",
       "      <td>78</td>\n",
       "      <td>Drama,Comedy</td>\n",
       "      <td>Set in London, where gratification is only an app away, the story centers on Arabella, a carefree, self-assured Londoner with a group of great friends, a boyfriend in Italy, and a burgeoning writing career. But when her drink is spiked, she must question and rebuild every element of her life.I May Destroy You featuring Michaela Coel and Weruche Opia has one or more episodes streaming with subscription on HBO MAX, and streaming on HBO. It's a comedy and drama show with 12 episodes over 1 season. I May Destroy You is no longer running and has no plans to air new episodes or seasons. It has a high IMDb audience rating of 8.1 (5,253 votes) and was very well received by critics.</td>\n",
       "      <td>1</td>\n",
       "      <td>HBO MAX,HBO</td>\n",
       "    </tr>\n",
       "    <tr>\n",
       "      <th>3</th>\n",
       "      <td>Fraggle Rock: Rock On!</td>\n",
       "      <td>2020</td>\n",
       "      <td>4</td>\n",
       "      <td>6.4</td>\n",
       "      <td>44</td>\n",
       "      <td>Family,Children</td>\n",
       "      <td>The Fraggles might be apart in separate caves, but they can still find ways to have fun together! Join Gobo, Red, Boober, Mokey, Wembley, and Uncle Travelling Matt for stories and songs that show everyone how we're all connected.Fraggle Rock: Rock On! featuring Karen Prell and John Tartaglia has one or more episodes streaming with subscription on Apple TV+. It's a children and family show with 7 episodes over 1 season. Fraggle Rock: Rock On! is still airing with no announced date for the next episode or season. It has an average IMDb audience rating of 6.4 (64 votes).</td>\n",
       "      <td>1</td>\n",
       "      <td>Apple TV+</td>\n",
       "    </tr>\n",
       "    <tr>\n",
       "      <th>4</th>\n",
       "      <td>I AM A KILLER: RELEASED</td>\n",
       "      <td>2020</td>\n",
       "      <td>3</td>\n",
       "      <td>5.3</td>\n",
       "      <td>56</td>\n",
       "      <td>Documentary,Crime</td>\n",
       "      <td>In this crime docuseries spinoff, a convict is paroled 30 years after being sentenced to death for murder. Then he makes a stunning confession.I AM A KILLER: RELEASED has one or more episodes streaming with subscription on Netflix. It's a crime and documentary show with 3 episodes over 1 season. I AM A KILLER: RELEASED is still airing with no announced date for the next episode or season. It has a less than average IMDb audience rating of 5.3 (287 votes).</td>\n",
       "      <td>1</td>\n",
       "      <td>Netflix</td>\n",
       "    </tr>\n",
       "    <tr>\n",
       "      <th>6</th>\n",
       "      <td>The Unremarkable Juanquini</td>\n",
       "      <td>2020</td>\n",
       "      <td>2</td>\n",
       "      <td>4.1</td>\n",
       "      <td>39</td>\n",
       "      <td>Comedy,2020</td>\n",
       "      <td>An inept magician pulls off the trick of his life: accidentally disappearing a wanted criminal during a police raid. Now he's going to pay for that.The Unremarkable Juanquini featuring Julián Cerati and Antonio Sanint has one or more episodes streaming with subscription on Netflix. It's a comedy show with 7 episodes over 1 season. The Unremarkable Juanquini is still airing with no announced date for the next episode or season. It has a low IMDb audience rating of 4.1 (117 votes).</td>\n",
       "      <td>1</td>\n",
       "      <td>Netflix</td>\n",
       "    </tr>\n",
       "  </tbody>\n",
       "</table>\n",
       "</div>"
      ],
      "text/plain": [
       "                           Series Title  Year Released  Content Rating  \\\n",
       "1  Pandemic: How to Prevent an Outbreak           2020               2   \n",
       "2                     I May Destroy You           2020               3   \n",
       "3                Fraggle Rock: Rock On!           2020               4   \n",
       "4               I AM A KILLER: RELEASED           2020               3   \n",
       "6            The Unremarkable Juanquini           2020               2   \n",
       "\n",
       "   IMDB Rating  R Rating              Genre  \\\n",
       "1          6.3        56   Documentary,2020   \n",
       "2          8.1        78       Drama,Comedy   \n",
       "3          6.4        44    Family,Children   \n",
       "4          5.3        56  Documentary,Crime   \n",
       "6          4.1        39        Comedy,2020   \n",
       "\n",
       "                                                                                                                                                                                                                                                                                                                                                                                                                                                                                                                                                                                                                                                                                                  Description  \\\n",
       "1                                                                                                                                                                                             In this docuseries, meet the heroes on the front lines of the battle against influenza and learn about their efforts to stop the next global outbreak.Pandemic: How to Prevent an Outbreak featuring Syra Madad has one or more episodes streaming with subscription on Netflix. It's a documentary show with 6 episodes over 1 season. Pandemic: How to Prevent an Outbreak is no longer running and has no plans to air new episodes or seasons. It has an average IMDb audience rating of 6.3 (2,404 votes).   \n",
       "2  Set in London, where gratification is only an app away, the story centers on Arabella, a carefree, self-assured Londoner with a group of great friends, a boyfriend in Italy, and a burgeoning writing career. But when her drink is spiked, she must question and rebuild every element of her life.I May Destroy You featuring Michaela Coel and Weruche Opia has one or more episodes streaming with subscription on HBO MAX, and streaming on HBO. It's a comedy and drama show with 12 episodes over 1 season. I May Destroy You is no longer running and has no plans to air new episodes or seasons. It has a high IMDb audience rating of 8.1 (5,253 votes) and was very well received by critics.   \n",
       "3                                                                                                              The Fraggles might be apart in separate caves, but they can still find ways to have fun together! Join Gobo, Red, Boober, Mokey, Wembley, and Uncle Travelling Matt for stories and songs that show everyone how we're all connected.Fraggle Rock: Rock On! featuring Karen Prell and John Tartaglia has one or more episodes streaming with subscription on Apple TV+. It's a children and family show with 7 episodes over 1 season. Fraggle Rock: Rock On! is still airing with no announced date for the next episode or season. It has an average IMDb audience rating of 6.4 (64 votes).   \n",
       "4                                                                                                                                                                                                                                 In this crime docuseries spinoff, a convict is paroled 30 years after being sentenced to death for murder. Then he makes a stunning confession.I AM A KILLER: RELEASED has one or more episodes streaming with subscription on Netflix. It's a crime and documentary show with 3 episodes over 1 season. I AM A KILLER: RELEASED is still airing with no announced date for the next episode or season. It has a less than average IMDb audience rating of 5.3 (287 votes).   \n",
       "6                                                                                                                                                                                                        An inept magician pulls off the trick of his life: accidentally disappearing a wanted criminal during a police raid. Now he's going to pay for that.The Unremarkable Juanquini featuring Julián Cerati and Antonio Sanint has one or more episodes streaming with subscription on Netflix. It's a comedy show with 7 episodes over 1 season. The Unremarkable Juanquini is still airing with no announced date for the next episode or season. It has a low IMDb audience rating of 4.1 (117 votes).   \n",
       "\n",
       "  No of Seasons Streaming Platform  \n",
       "1             1            Netflix  \n",
       "2             1        HBO MAX,HBO  \n",
       "3             1          Apple TV+  \n",
       "4             1            Netflix  \n",
       "6             1            Netflix  "
      ]
     },
     "execution_count": 70,
     "metadata": {},
     "output_type": "execute_result"
    }
   ],
   "source": [
    "\n",
    "# Now We will convert this column into categories like 7+ -->0, 13+ --> 1,16+ --> 2,18+ --> 3,all --> 4\n",
    "\n",
    "mapping = {\n",
    "    \"7+\": 0,\n",
    "    \"13+\": 1,\n",
    "    \"16+\": 2,\n",
    "    \"18+\": 3,\n",
    "    \"all\": 4\n",
    "}\n",
    "\n",
    "dataset[\"Content Rating\"] = dataset[\"Content Rating\"].map(mapping)\n",
    "\n",
    "dataset.head()"
   ]
  },
  {
   "cell_type": "code",
   "execution_count": 71,
   "metadata": {},
   "outputs": [],
   "source": [
    "# How many streaming platforms data we have and what what streaming platform we have\n",
    "\n",
    "streaming_platform = dataset[\"Streaming Platform\"].value_counts()\n",
    "\n"
   ]
  },
  {
   "cell_type": "code",
   "execution_count": 72,
   "metadata": {},
   "outputs": [
    {
     "data": {
      "text/html": [
       "<div>\n",
       "<style scoped>\n",
       "    .dataframe tbody tr th:only-of-type {\n",
       "        vertical-align: middle;\n",
       "    }\n",
       "\n",
       "    .dataframe tbody tr th {\n",
       "        vertical-align: top;\n",
       "    }\n",
       "\n",
       "    .dataframe thead th {\n",
       "        text-align: right;\n",
       "    }\n",
       "</style>\n",
       "<table border=\"1\" class=\"dataframe\">\n",
       "  <thead>\n",
       "    <tr style=\"text-align: right;\">\n",
       "      <th></th>\n",
       "      <th>Series Title</th>\n",
       "      <th>Year Released</th>\n",
       "      <th>Content Rating</th>\n",
       "      <th>IMDB Rating</th>\n",
       "      <th>R Rating</th>\n",
       "      <th>Genre</th>\n",
       "      <th>Description</th>\n",
       "      <th>No of Seasons</th>\n",
       "      <th>Streaming Platform</th>\n",
       "    </tr>\n",
       "  </thead>\n",
       "  <tbody>\n",
       "    <tr>\n",
       "      <th>1</th>\n",
       "      <td>Pandemic: How to Prevent an Outbreak</td>\n",
       "      <td>2020</td>\n",
       "      <td>2</td>\n",
       "      <td>6.3</td>\n",
       "      <td>56</td>\n",
       "      <td>Documentary,2020</td>\n",
       "      <td>In this docuseries, meet the heroes on the front lines of the battle against influenza and learn about their efforts to stop the next global outbreak.Pandemic: How to Prevent an Outbreak featuring Syra Madad has one or more episodes streaming with subscription on Netflix. It's a documentary show with 6 episodes over 1 season. Pandemic: How to Prevent an Outbreak is no longer running and has no plans to air new episodes or seasons. It has an average IMDb audience rating of 6.3 (2,404 votes).</td>\n",
       "      <td>1</td>\n",
       "      <td>Netflix</td>\n",
       "    </tr>\n",
       "    <tr>\n",
       "      <th>2</th>\n",
       "      <td>I May Destroy You</td>\n",
       "      <td>2020</td>\n",
       "      <td>3</td>\n",
       "      <td>8.1</td>\n",
       "      <td>78</td>\n",
       "      <td>Drama,Comedy</td>\n",
       "      <td>Set in London, where gratification is only an app away, the story centers on Arabella, a carefree, self-assured Londoner with a group of great friends, a boyfriend in Italy, and a burgeoning writing career. But when her drink is spiked, she must question and rebuild every element of her life.I May Destroy You featuring Michaela Coel and Weruche Opia has one or more episodes streaming with subscription on HBO MAX, and streaming on HBO. It's a comedy and drama show with 12 episodes over 1 season. I May Destroy You is no longer running and has no plans to air new episodes or seasons. It has a high IMDb audience rating of 8.1 (5,253 votes) and was very well received by critics.</td>\n",
       "      <td>1</td>\n",
       "      <td>HBO MAX,HBO</td>\n",
       "    </tr>\n",
       "    <tr>\n",
       "      <th>3</th>\n",
       "      <td>Fraggle Rock: Rock On!</td>\n",
       "      <td>2020</td>\n",
       "      <td>4</td>\n",
       "      <td>6.4</td>\n",
       "      <td>44</td>\n",
       "      <td>Family,Children</td>\n",
       "      <td>The Fraggles might be apart in separate caves, but they can still find ways to have fun together! Join Gobo, Red, Boober, Mokey, Wembley, and Uncle Travelling Matt for stories and songs that show everyone how we're all connected.Fraggle Rock: Rock On! featuring Karen Prell and John Tartaglia has one or more episodes streaming with subscription on Apple TV+. It's a children and family show with 7 episodes over 1 season. Fraggle Rock: Rock On! is still airing with no announced date for the next episode or season. It has an average IMDb audience rating of 6.4 (64 votes).</td>\n",
       "      <td>1</td>\n",
       "      <td>Apple TV+</td>\n",
       "    </tr>\n",
       "    <tr>\n",
       "      <th>4</th>\n",
       "      <td>I AM A KILLER: RELEASED</td>\n",
       "      <td>2020</td>\n",
       "      <td>3</td>\n",
       "      <td>5.3</td>\n",
       "      <td>56</td>\n",
       "      <td>Documentary,Crime</td>\n",
       "      <td>In this crime docuseries spinoff, a convict is paroled 30 years after being sentenced to death for murder. Then he makes a stunning confession.I AM A KILLER: RELEASED has one or more episodes streaming with subscription on Netflix. It's a crime and documentary show with 3 episodes over 1 season. I AM A KILLER: RELEASED is still airing with no announced date for the next episode or season. It has a less than average IMDb audience rating of 5.3 (287 votes).</td>\n",
       "      <td>1</td>\n",
       "      <td>Netflix</td>\n",
       "    </tr>\n",
       "    <tr>\n",
       "      <th>6</th>\n",
       "      <td>The Unremarkable Juanquini</td>\n",
       "      <td>2020</td>\n",
       "      <td>2</td>\n",
       "      <td>4.1</td>\n",
       "      <td>39</td>\n",
       "      <td>Comedy,2020</td>\n",
       "      <td>An inept magician pulls off the trick of his life: accidentally disappearing a wanted criminal during a police raid. Now he's going to pay for that.The Unremarkable Juanquini featuring Julián Cerati and Antonio Sanint has one or more episodes streaming with subscription on Netflix. It's a comedy show with 7 episodes over 1 season. The Unremarkable Juanquini is still airing with no announced date for the next episode or season. It has a low IMDb audience rating of 4.1 (117 votes).</td>\n",
       "      <td>1</td>\n",
       "      <td>Netflix</td>\n",
       "    </tr>\n",
       "  </tbody>\n",
       "</table>\n",
       "</div>"
      ],
      "text/plain": [
       "                           Series Title  Year Released  Content Rating  \\\n",
       "1  Pandemic: How to Prevent an Outbreak           2020               2   \n",
       "2                     I May Destroy You           2020               3   \n",
       "3                Fraggle Rock: Rock On!           2020               4   \n",
       "4               I AM A KILLER: RELEASED           2020               3   \n",
       "6            The Unremarkable Juanquini           2020               2   \n",
       "\n",
       "   IMDB Rating  R Rating              Genre  \\\n",
       "1          6.3        56   Documentary,2020   \n",
       "2          8.1        78       Drama,Comedy   \n",
       "3          6.4        44    Family,Children   \n",
       "4          5.3        56  Documentary,Crime   \n",
       "6          4.1        39        Comedy,2020   \n",
       "\n",
       "                                                                                                                                                                                                                                                                                                                                                                                                                                                                                                                                                                                                                                                                                                  Description  \\\n",
       "1                                                                                                                                                                                             In this docuseries, meet the heroes on the front lines of the battle against influenza and learn about their efforts to stop the next global outbreak.Pandemic: How to Prevent an Outbreak featuring Syra Madad has one or more episodes streaming with subscription on Netflix. It's a documentary show with 6 episodes over 1 season. Pandemic: How to Prevent an Outbreak is no longer running and has no plans to air new episodes or seasons. It has an average IMDb audience rating of 6.3 (2,404 votes).   \n",
       "2  Set in London, where gratification is only an app away, the story centers on Arabella, a carefree, self-assured Londoner with a group of great friends, a boyfriend in Italy, and a burgeoning writing career. But when her drink is spiked, she must question and rebuild every element of her life.I May Destroy You featuring Michaela Coel and Weruche Opia has one or more episodes streaming with subscription on HBO MAX, and streaming on HBO. It's a comedy and drama show with 12 episodes over 1 season. I May Destroy You is no longer running and has no plans to air new episodes or seasons. It has a high IMDb audience rating of 8.1 (5,253 votes) and was very well received by critics.   \n",
       "3                                                                                                              The Fraggles might be apart in separate caves, but they can still find ways to have fun together! Join Gobo, Red, Boober, Mokey, Wembley, and Uncle Travelling Matt for stories and songs that show everyone how we're all connected.Fraggle Rock: Rock On! featuring Karen Prell and John Tartaglia has one or more episodes streaming with subscription on Apple TV+. It's a children and family show with 7 episodes over 1 season. Fraggle Rock: Rock On! is still airing with no announced date for the next episode or season. It has an average IMDb audience rating of 6.4 (64 votes).   \n",
       "4                                                                                                                                                                                                                                 In this crime docuseries spinoff, a convict is paroled 30 years after being sentenced to death for murder. Then he makes a stunning confession.I AM A KILLER: RELEASED has one or more episodes streaming with subscription on Netflix. It's a crime and documentary show with 3 episodes over 1 season. I AM A KILLER: RELEASED is still airing with no announced date for the next episode or season. It has a less than average IMDb audience rating of 5.3 (287 votes).   \n",
       "6                                                                                                                                                                                                        An inept magician pulls off the trick of his life: accidentally disappearing a wanted criminal during a police raid. Now he's going to pay for that.The Unremarkable Juanquini featuring Julián Cerati and Antonio Sanint has one or more episodes streaming with subscription on Netflix. It's a comedy show with 7 episodes over 1 season. The Unremarkable Juanquini is still airing with no announced date for the next episode or season. It has a low IMDb audience rating of 4.1 (117 votes).   \n",
       "\n",
       "  No of Seasons Streaming Platform  \n",
       "1             1            Netflix  \n",
       "2             1        HBO MAX,HBO  \n",
       "3             1          Apple TV+  \n",
       "4             1            Netflix  \n",
       "6             1            Netflix  "
      ]
     },
     "execution_count": 72,
     "metadata": {},
     "output_type": "execute_result"
    }
   ],
   "source": [
    "# Droping the No Values containing rows from the streaming platform\n",
    "\n",
    "dataset = dataset[dataset[\"Streaming Platform\"] != \"No Value\"]\n",
    "\n",
    "dataset.head()"
   ]
  },
  {
   "cell_type": "code",
   "execution_count": 73,
   "metadata": {},
   "outputs": [
    {
     "name": "stdout",
     "output_type": "stream",
     "text": [
      "Null Values Report\n",
      "\n",
      "Series Title          0\n",
      "Year Released         0\n",
      "Content Rating        0\n",
      "IMDB Rating           0\n",
      "R Rating              0\n",
      "Genre                 0\n",
      "Description           0\n",
      "No of Seasons         0\n",
      "Streaming Platform    0\n",
      "dtype: int64\n",
      "\n",
      "Rows in the Data After Data Cleaning :  5996\n"
     ]
    }
   ],
   "source": [
    "# After Complete Data Cleaning\n",
    "\n",
    "print(\"Null Values Report\\n\")\n",
    "print(dataset.isna().sum())\n",
    "\n",
    "print(\"\\nRows in the Data After Data Cleaning : \",dataset.shape[0])"
   ]
  },
  {
   "cell_type": "code",
   "execution_count": 74,
   "metadata": {},
   "outputs": [
    {
     "name": "stderr",
     "output_type": "stream",
     "text": [
      "C:\\Users\\User\\AppData\\Local\\Temp\\ipykernel_11088\\2177025917.py:16: FutureWarning:\n",
      "\n",
      "unique with argument that is not not a Series, Index, ExtensionArray, or np.ndarray is deprecated and will raise in a future version.\n",
      "\n"
     ]
    }
   ],
   "source": [
    "# How many streaming platforms data we have and what what streaming platform we have\n",
    "\n",
    "streaming_platform = dataset[\"Streaming Platform\"].value_counts()\n",
    "\n",
    "streaming = []\n",
    "\n",
    "\n",
    "for i in list(streaming_platform.keys()):\n",
    "    #print(i.split(\",\"))\n",
    "    if len(i.split(\",\")) == 1:\n",
    "        streaming.append(i)\n",
    "    else:\n",
    "        for j in i.split(\",\"):\n",
    "            streaming.append(j)\n",
    "    \n",
    "all_streamers = list(pd.unique(streaming))\n",
    "\n",
    "streaming_data = {}\n",
    "\n",
    "for i in all_streamers:\n",
    "    streaming_data[i] = 0\n",
    "\n",
    "for j in streaming_data.keys():\n",
    "    for k in list(dataset['Streaming Platform']):\n",
    "        if j in k:\n",
    "            streaming_data[j] +=1\n",
    "       "
   ]
  },
  {
   "cell_type": "code",
   "execution_count": 75,
   "metadata": {},
   "outputs": [],
   "source": [
    "platfrom = list(streaming_data.keys())\n",
    "publishes = list(streaming_data.values())\n",
    "\n",
    "streaming_data = pd.DataFrame(streaming_data.values(),index=streaming_data.keys(),columns=[\"Shows Streamed\"]).reset_index()\n",
    "\n",
    "streaming_data.rename(columns={\"index\":\"Platform\"},inplace=True)\n"
   ]
  },
  {
   "cell_type": "code",
   "execution_count": 76,
   "metadata": {},
   "outputs": [
    {
     "data": {
      "text/html": [
       "<div>\n",
       "<style scoped>\n",
       "    .dataframe tbody tr th:only-of-type {\n",
       "        vertical-align: middle;\n",
       "    }\n",
       "\n",
       "    .dataframe tbody tr th {\n",
       "        vertical-align: top;\n",
       "    }\n",
       "\n",
       "    .dataframe thead th {\n",
       "        text-align: right;\n",
       "    }\n",
       "</style>\n",
       "<table border=\"1\" class=\"dataframe\">\n",
       "  <thead>\n",
       "    <tr style=\"text-align: right;\">\n",
       "      <th></th>\n",
       "      <th>Platform</th>\n",
       "      <th>Shows Streamed</th>\n",
       "    </tr>\n",
       "  </thead>\n",
       "  <tbody>\n",
       "    <tr>\n",
       "      <th>1</th>\n",
       "      <td>Free Services</td>\n",
       "      <td>2317</td>\n",
       "    </tr>\n",
       "    <tr>\n",
       "      <th>2</th>\n",
       "      <td>Hulu</td>\n",
       "      <td>1254</td>\n",
       "    </tr>\n",
       "    <tr>\n",
       "      <th>0</th>\n",
       "      <td>Netflix</td>\n",
       "      <td>1236</td>\n",
       "    </tr>\n",
       "    <tr>\n",
       "      <th>3</th>\n",
       "      <td>Prime Video</td>\n",
       "      <td>753</td>\n",
       "    </tr>\n",
       "    <tr>\n",
       "      <th>5</th>\n",
       "      <td>fuboTV</td>\n",
       "      <td>696</td>\n",
       "    </tr>\n",
       "    <tr>\n",
       "      <th>4</th>\n",
       "      <td>Funimation</td>\n",
       "      <td>418</td>\n",
       "    </tr>\n",
       "    <tr>\n",
       "      <th>10</th>\n",
       "      <td>Hoopla</td>\n",
       "      <td>413</td>\n",
       "    </tr>\n",
       "    <tr>\n",
       "      <th>7</th>\n",
       "      <td>HBO</td>\n",
       "      <td>347</td>\n",
       "    </tr>\n",
       "    <tr>\n",
       "      <th>6</th>\n",
       "      <td>HBO MAX</td>\n",
       "      <td>326</td>\n",
       "    </tr>\n",
       "    <tr>\n",
       "      <th>9</th>\n",
       "      <td>BritBox</td>\n",
       "      <td>185</td>\n",
       "    </tr>\n",
       "  </tbody>\n",
       "</table>\n",
       "</div>"
      ],
      "text/plain": [
       "         Platform  Shows Streamed\n",
       "1   Free Services            2317\n",
       "2            Hulu            1254\n",
       "0         Netflix            1236\n",
       "3     Prime Video             753\n",
       "5          fuboTV             696\n",
       "4      Funimation             418\n",
       "10         Hoopla             413\n",
       "7             HBO             347\n",
       "6         HBO MAX             326\n",
       "9         BritBox             185"
      ]
     },
     "execution_count": 76,
     "metadata": {},
     "output_type": "execute_result"
    }
   ],
   "source": [
    "streaming_data.sort_values(\"Shows Streamed\",inplace=True,ascending=False)\n",
    "streaming_data.head(10)"
   ]
  },
  {
   "cell_type": "code",
   "execution_count": 77,
   "metadata": {},
   "outputs": [
    {
     "data": {
      "image/png": "[encoded data removed]",
      "text/plain": [
       "<Figure size 1800x800 with 1 Axes>"
      ]
     },
     "metadata": {},
     "output_type": "display_data"
    }
   ],
   "source": [
    "# Plot a vertical bar plot\n",
    "plt.figure(figsize=(18,8))\n",
    "ax = sns.barplot(data=streaming_data.head(15),x=\"Platform\", y=\"Shows Streamed\",hue=\"Platform\", legend=False, palette=\"viridis\")\n",
    "plt.title(\"Top 15 Most Streamed platforms\",fontdict={\"family\": \"Times New Roman\", \"size\": 16})\n",
    "\n",
    "# Annotating the bars with their values\n",
    "for container in ax.containers:  # Loop through the bar containers\n",
    "    ax.bar_label(container)  # Format the label to show 2 decimal places\n",
    "\n",
    "# Add labels for clarity\n",
    "plt.xlabel(\"Streaming Platform\")\n",
    "plt.ylabel(\"Shows Streamed\")\n",
    "plt.xticks(rotation=45)  # Rotate x-axis labels for better visibility\n",
    "plt.tight_layout()  # Adjust layout to avoid overlapping\n",
    "plt.show()"
   ]
  },
  {
   "cell_type": "code",
   "execution_count": 78,
   "metadata": {},
   "outputs": [
    {
     "data": {
      "application/vnd.plotly.v1+json": {
       "config": {
        "plotlyServerURL": "https://plot.ly"
       },
       "data": [
        {
         "alignmentgroup": "True",
         "hovertemplate": "Genre=%{x}<br>Number of Shows=%{marker.color}<extra></extra>",
         "legendgroup": "",
         "marker": {
          "color": [
           364,
           259,
           242,
           228,
           215,
           209,
           186,
           165,
           149,
           127
          ],
          "coloraxis": "coloraxis",
          "pattern": {
           "shape": ""
          }
         },
         "name": "",
         "offsetgroup": "",
         "orientation": "v",
         "showlegend": false,
         "textposition": "auto",
         "type": "bar",
         "x": [
          "Animation,Anime",
          "Comedy,Drama",
          "Crime,Drama",
          "Animation,Action & Adventure",
          "Animation,Comedy",
          "Animation,Children",
          "Action & Adventure,Animation",
          "Action & Adventure,Anime",
          "Action & Adventure,Drama",
          "Documentary,Reality"
         ],
         "xaxis": "x",
         "y": [
          364,
          259,
          242,
          228,
          215,
          209,
          186,
          165,
          149,
          127
         ],
         "yaxis": "y"
        }
       ],
       "layout": {
        "barmode": "relative",
        "coloraxis": {
         "colorbar": {
          "title": {
           "text": "Number of Shows"
          }
         },
         "colorscale": [
          [
           0,
           "#440154"
          ],
          [
           0.1111111111111111,
           "#482878"
          ],
          [
           0.2222222222222222,
           "#3e4989"
          ],
          [
           0.3333333333333333,
           "#31688e"
          ],
          [
           0.4444444444444444,
           "#26828e"
          ],
          [
           0.5555555555555556,
           "#1f9e89"
          ],
          [
           0.6666666666666666,
           "#35b779"
          ],
          [
           0.7777777777777778,
           "#6ece58"
          ],
          [
           0.8888888888888888,
           "#b5de2b"
          ],
          [
           1,
           "#fde725"
          ]
         ]
        },
        "font": {
         "size": 14
        },
        "height": 700,
        "legend": {
         "tracegroupgap": 0
        },
        "template": {
         "data": {
          "bar": [
           {
            "error_x": {
             "color": "#2a3f5f"
            },
            "error_y": {
             "color": "#2a3f5f"
            },
            "marker": {
             "line": {
              "color": "#E5ECF6",
              "width": 0.5
             },
             "pattern": {
              "fillmode": "overlay",
              "size": 10,
              "solidity": 0.2
             }
            },
            "type": "bar"
           }
          ],
          "barpolar": [
           {
            "marker": {
             "line": {
              "color": "#E5ECF6",
              "width": 0.5
             },
             "pattern": {
              "fillmode": "overlay",
              "size": 10,
              "solidity": 0.2
             }
            },
            "type": "barpolar"
           }
          ],
          "carpet": [
           {
            "aaxis": {
             "endlinecolor": "#2a3f5f",
             "gridcolor": "white",
             "linecolor": "white",
             "minorgridcolor": "white",
             "startlinecolor": "#2a3f5f"
            },
            "baxis": {
             "endlinecolor": "#2a3f5f",
             "gridcolor": "white",
             "linecolor": "white",
             "minorgridcolor": "white",
             "startlinecolor": "#2a3f5f"
            },
            "type": "carpet"
           }
          ],
          "choropleth": [
           {
            "colorbar": {
             "outlinewidth": 0,
             "ticks": ""
            },
            "type": "choropleth"
           }
          ],
          "contour": [
           {
            "colorbar": {
             "outlinewidth": 0,
             "ticks": ""
            },
            "colorscale": [
             [
              0,
              "#0d0887"
             ],
             [
              0.1111111111111111,
              "#46039f"
             ],
             [
              0.2222222222222222,
              "#7201a8"
             ],
             [
              0.3333333333333333,
              "#9c179e"
             ],
             [
              0.4444444444444444,
              "#bd3786"
             ],
             [
              0.5555555555555556,
              "#d8576b"
             ],
             [
              0.6666666666666666,
              "#ed7953"
             ],
             [
              0.7777777777777778,
              "#fb9f3a"
             ],
             [
              0.8888888888888888,
              "#fdca26"
             ],
             [
              1,
              "#f0f921"
             ]
            ],
            "type": "contour"
           }
          ],
          "contourcarpet": [
           {
            "colorbar": {
             "outlinewidth": 0,
             "ticks": ""
            },
            "type": "contourcarpet"
           }
          ],
          "heatmap": [
           {
            "colorbar": {
             "outlinewidth": 0,
             "ticks": ""
            },
            "colorscale": [
             [
              0,
              "#0d0887"
             ],
             [
              0.1111111111111111,
              "#46039f"
             ],
             [
              0.2222222222222222,
              "#7201a8"
             ],
             [
              0.3333333333333333,
              "#9c179e"
             ],
             [
              0.4444444444444444,
              "#bd3786"
             ],
             [
              0.5555555555555556,
              "#d8576b"
             ],
             [
              0.6666666666666666,
              "#ed7953"
             ],
             [
              0.7777777777777778,
              "#fb9f3a"
             ],
             [
              0.8888888888888888,
              "#fdca26"
             ],
             [
              1,
              "#f0f921"
             ]
            ],
            "type": "heatmap"
           }
          ],
          "heatmapgl": [
           {
            "colorbar": {
             "outlinewidth": 0,
             "ticks": ""
            },
            "colorscale": [
             [
              0,
              "#0d0887"
             ],
             [
              0.1111111111111111,
              "#46039f"
             ],
             [
              0.2222222222222222,
              "#7201a8"
             ],
             [
              0.3333333333333333,
              "#9c179e"
             ],
             [
              0.4444444444444444,
              "#bd3786"
             ],
             [
              0.5555555555555556,
              "#d8576b"
             ],
             [
              0.6666666666666666,
              "#ed7953"
             ],
             [
              0.7777777777777778,
              "#fb9f3a"
             ],
             [
              0.8888888888888888,
              "#fdca26"
             ],
             [
              1,
              "#f0f921"
             ]
            ],
            "type": "heatmapgl"
           }
          ],
          "histogram": [
           {
            "marker": {
             "pattern": {
              "fillmode": "overlay",
              "size": 10,
              "solidity": 0.2
             }
            },
            "type": "histogram"
           }
          ],
          "histogram2d": [
           {
            "colorbar": {
             "outlinewidth": 0,
             "ticks": ""
            },
            "colorscale": [
             [
              0,
              "#0d0887"
             ],
             [
              0.1111111111111111,
              "#46039f"
             ],
             [
              0.2222222222222222,
              "#7201a8"
             ],
             [
              0.3333333333333333,
              "#9c179e"
             ],
             [
              0.4444444444444444,
              "#bd3786"
             ],
             [
              0.5555555555555556,
              "#d8576b"
             ],
             [
              0.6666666666666666,
              "#ed7953"
             ],
             [
              0.7777777777777778,
              "#fb9f3a"
             ],
             [
              0.8888888888888888,
              "#fdca26"
             ],
             [
              1,
              "#f0f921"
             ]
            ],
            "type": "histogram2d"
           }
          ],
          "histogram2dcontour": [
           {
            "colorbar": {
             "outlinewidth": 0,
             "ticks": ""
            },
            "colorscale": [
             [
              0,
              "#0d0887"
             ],
             [
              0.1111111111111111,
              "#46039f"
             ],
             [
              0.2222222222222222,
              "#7201a8"
             ],
             [
              0.3333333333333333,
              "#9c179e"
             ],
             [
              0.4444444444444444,
              "#bd3786"
             ],
             [
              0.5555555555555556,
              "#d8576b"
             ],
             [
              0.6666666666666666,
              "#ed7953"
             ],
             [
              0.7777777777777778,
              "#fb9f3a"
             ],
             [
              0.8888888888888888,
              "#fdca26"
             ],
             [
              1,
              "#f0f921"
             ]
            ],
            "type": "histogram2dcontour"
           }
          ],
          "mesh3d": [
           {
            "colorbar": {
             "outlinewidth": 0,
             "ticks": ""
            },
            "type": "mesh3d"
           }
          ],
          "parcoords": [
           {
            "line": {
             "colorbar": {
              "outlinewidth": 0,
              "ticks": ""
             }
            },
            "type": "parcoords"
           }
          ],
          "pie": [
           {
            "automargin": true,
            "type": "pie"
           }
          ],
          "scatter": [
           {
            "fillpattern": {
             "fillmode": "overlay",
             "size": 10,
             "solidity": 0.2
            },
            "type": "scatter"
           }
          ],
          "scatter3d": [
           {
            "line": {
             "colorbar": {
              "outlinewidth": 0,
              "ticks": ""
             }
            },
            "marker": {
             "colorbar": {
              "outlinewidth": 0,
              "ticks": ""
             }
            },
            "type": "scatter3d"
           }
          ],
          "scattercarpet": [
           {
            "marker": {
             "colorbar": {
              "outlinewidth": 0,
              "ticks": ""
             }
            },
            "type": "scattercarpet"
           }
          ],
          "scattergeo": [
           {
            "marker": {
             "colorbar": {
              "outlinewidth": 0,
              "ticks": ""
             }
            },
            "type": "scattergeo"
           }
          ],
          "scattergl": [
           {
            "marker": {
             "colorbar": {
              "outlinewidth": 0,
              "ticks": ""
             }
            },
            "type": "scattergl"
           }
          ],
          "scattermapbox": [
           {
            "marker": {
             "colorbar": {
              "outlinewidth": 0,
              "ticks": ""
             }
            },
            "type": "scattermapbox"
           }
          ],
          "scatterpolar": [
           {
            "marker": {
             "colorbar": {
              "outlinewidth": 0,
              "ticks": ""
             }
            },
            "type": "scatterpolar"
           }
          ],
          "scatterpolargl": [
           {
            "marker": {
             "colorbar": {
              "outlinewidth": 0,
              "ticks": ""
             }
            },
            "type": "scatterpolargl"
           }
          ],
          "scatterternary": [
           {
            "marker": {
             "colorbar": {
              "outlinewidth": 0,
              "ticks": ""
             }
            },
            "type": "scatterternary"
           }
          ],
          "surface": [
           {
            "colorbar": {
             "outlinewidth": 0,
             "ticks": ""
            },
            "colorscale": [
             [
              0,
              "#0d0887"
             ],
             [
              0.1111111111111111,
              "#46039f"
             ],
             [
              0.2222222222222222,
              "#7201a8"
             ],
             [
              0.3333333333333333,
              "#9c179e"
             ],
             [
              0.4444444444444444,
              "#bd3786"
             ],
             [
              0.5555555555555556,
              "#d8576b"
             ],
             [
              0.6666666666666666,
              "#ed7953"
             ],
             [
              0.7777777777777778,
              "#fb9f3a"
             ],
             [
              0.8888888888888888,
              "#fdca26"
             ],
             [
              1,
              "#f0f921"
             ]
            ],
            "type": "surface"
           }
          ],
          "table": [
           {
            "cells": {
             "fill": {
              "color": "#EBF0F8"
             },
             "line": {
              "color": "white"
             }
            },
            "header": {
             "fill": {
              "color": "#C8D4E3"
             },
             "line": {
              "color": "white"
             }
            },
            "type": "table"
           }
          ]
         },
         "layout": {
          "annotationdefaults": {
           "arrowcolor": "#2a3f5f",
           "arrowhead": 0,
           "arrowwidth": 1
          },
          "autotypenumbers": "strict",
          "coloraxis": {
           "colorbar": {
            "outlinewidth": 0,
            "ticks": ""
           }
          },
          "colorscale": {
           "diverging": [
            [
             0,
             "#8e0152"
            ],
            [
             0.1,
             "#c51b7d"
            ],
            [
             0.2,
             "#de77ae"
            ],
            [
             0.3,
             "#f1b6da"
            ],
            [
             0.4,
             "#fde0ef"
            ],
            [
             0.5,
             "#f7f7f7"
            ],
            [
             0.6,
             "#e6f5d0"
            ],
            [
             0.7,
             "#b8e186"
            ],
            [
             0.8,
             "#7fbc41"
            ],
            [
             0.9,
             "#4d9221"
            ],
            [
             1,
             "#276419"
            ]
           ],
           "sequential": [
            [
             0,
             "#0d0887"
            ],
            [
             0.1111111111111111,
             "#46039f"
            ],
            [
             0.2222222222222222,
             "#7201a8"
            ],
            [
             0.3333333333333333,
             "#9c179e"
            ],
            [
             0.4444444444444444,
             "#bd3786"
            ],
            [
             0.5555555555555556,
             "#d8576b"
            ],
            [
             0.6666666666666666,
             "#ed7953"
            ],
            [
             0.7777777777777778,
             "#fb9f3a"
            ],
            [
             0.8888888888888888,
             "#fdca26"
            ],
            [
             1,
             "#f0f921"
            ]
           ],
           "sequentialminus": [
            [
             0,
             "#0d0887"
            ],
            [
             0.1111111111111111,
             "#46039f"
            ],
            [
             0.2222222222222222,
             "#7201a8"
            ],
            [
             0.3333333333333333,
             "#9c179e"
            ],
            [
             0.4444444444444444,
             "#bd3786"
            ],
            [
             0.5555555555555556,
             "#d8576b"
            ],
            [
             0.6666666666666666,
             "#ed7953"
            ],
            [
             0.7777777777777778,
             "#fb9f3a"
            ],
            [
             0.8888888888888888,
             "#fdca26"
            ],
            [
             1,
             "#f0f921"
            ]
           ]
          },
          "colorway": [
           "#636efa",
           "#EF553B",
           "#00cc96",
           "#ab63fa",
           "#FFA15A",
           "#19d3f3",
           "#FF6692",
           "#B6E880",
           "#FF97FF",
           "#FECB52"
          ],
          "font": {
           "color": "#2a3f5f"
          },
          "geo": {
           "bgcolor": "white",
           "lakecolor": "white",
           "landcolor": "#E5ECF6",
           "showlakes": true,
           "showland": true,
           "subunitcolor": "white"
          },
          "hoverlabel": {
           "align": "left"
          },
          "hovermode": "closest",
          "mapbox": {
           "style": "light"
          },
          "paper_bgcolor": "white",
          "plot_bgcolor": "#E5ECF6",
          "polar": {
           "angularaxis": {
            "gridcolor": "white",
            "linecolor": "white",
            "ticks": ""
           },
           "bgcolor": "#E5ECF6",
           "radialaxis": {
            "gridcolor": "white",
            "linecolor": "white",
            "ticks": ""
           }
          },
          "scene": {
           "xaxis": {
            "backgroundcolor": "#E5ECF6",
            "gridcolor": "white",
            "gridwidth": 2,
            "linecolor": "white",
            "showbackground": true,
            "ticks": "",
            "zerolinecolor": "white"
           },
           "yaxis": {
            "backgroundcolor": "#E5ECF6",
            "gridcolor": "white",
            "gridwidth": 2,
            "linecolor": "white",
            "showbackground": true,
            "ticks": "",
            "zerolinecolor": "white"
           },
           "zaxis": {
            "backgroundcolor": "#E5ECF6",
            "gridcolor": "white",
            "gridwidth": 2,
            "linecolor": "white",
            "showbackground": true,
            "ticks": "",
            "zerolinecolor": "white"
           }
          },
          "shapedefaults": {
           "line": {
            "color": "#2a3f5f"
           }
          },
          "ternary": {
           "aaxis": {
            "gridcolor": "white",
            "linecolor": "white",
            "ticks": ""
           },
           "baxis": {
            "gridcolor": "white",
            "linecolor": "white",
            "ticks": ""
           },
           "bgcolor": "#E5ECF6",
           "caxis": {
            "gridcolor": "white",
            "linecolor": "white",
            "ticks": ""
           }
          },
          "title": {
           "x": 0.05
          },
          "xaxis": {
           "automargin": true,
           "gridcolor": "white",
           "linecolor": "white",
           "ticks": "",
           "title": {
            "standoff": 15
           },
           "zerolinecolor": "white",
           "zerolinewidth": 2
          },
          "yaxis": {
           "automargin": true,
           "gridcolor": "white",
           "linecolor": "white",
           "ticks": "",
           "title": {
            "standoff": 15
           },
           "zerolinecolor": "white",
           "zerolinewidth": 2
          }
         }
        },
        "title": {
         "font": {
          "size": 24
         },
         "text": "Top 10 Genres Combinations with Most No of Shows"
        },
        "width": 1400,
        "xaxis": {
         "anchor": "y",
         "domain": [
          0,
          1
         ],
         "title": {
          "text": "Genre"
         }
        },
        "yaxis": {
         "anchor": "x",
         "domain": [
          0,
          1
         ],
         "title": {
          "text": "Number of Shows"
         }
        }
       }
      }
     },
     "metadata": {},
     "output_type": "display_data"
    }
   ],
   "source": [
    "\n",
    "\n",
    "# Calculate the top 10 genres\n",
    "top_genres = dataset[\"Genre\"].value_counts().head(10).reset_index()\n",
    "top_genres.columns = [\"Genre\", \"Count\"]  # Rename columns for clarity\n",
    "\n",
    "# Create an interactive bar chart using Plotly Express\n",
    "fig = px.bar(\n",
    "    top_genres,\n",
    "    x=\"Genre\",\n",
    "    y=\"Count\",\n",
    "    title=\"Top 10 Genres Combinations with Most No of Shows\",\n",
    "    color=\"Count\",  # Use Count to dynamically color the bars\n",
    "    color_continuous_scale=\"Viridis\",  # Interactive color scheme\n",
    "    labels={\"Count\": \"Number of Shows\", \"Genre\": \"Genre\"},\n",
    ")\n",
    "\n",
    "# Customize layout\n",
    "fig.update_layout(\n",
    "    xaxis_title=\"Genre\",\n",
    "    yaxis_title=\"Number of Shows\",\n",
    "    title_font=dict(size=24),\n",
    "    font=dict(size=14),\n",
    "    width=1400,\n",
    "    height=700,\n",
    ")\n",
    "\n",
    "# Show the interactive chart\n",
    "fig.show()\n"
   ]
  },
  {
   "cell_type": "code",
   "execution_count": 79,
   "metadata": {},
   "outputs": [
    {
     "data": {
      "text/html": [
       "<div>\n",
       "<style scoped>\n",
       "    .dataframe tbody tr th:only-of-type {\n",
       "        vertical-align: middle;\n",
       "    }\n",
       "\n",
       "    .dataframe tbody tr th {\n",
       "        vertical-align: top;\n",
       "    }\n",
       "\n",
       "    .dataframe thead th {\n",
       "        text-align: right;\n",
       "    }\n",
       "</style>\n",
       "<table border=\"1\" class=\"dataframe\">\n",
       "  <thead>\n",
       "    <tr style=\"text-align: right;\">\n",
       "      <th></th>\n",
       "      <th>Genre</th>\n",
       "      <th>No of Shows</th>\n",
       "    </tr>\n",
       "  </thead>\n",
       "  <tbody>\n",
       "    <tr>\n",
       "      <th>0</th>\n",
       "      <td>Comedy</td>\n",
       "      <td>89</td>\n",
       "    </tr>\n",
       "    <tr>\n",
       "      <th>1</th>\n",
       "      <td>Drama</td>\n",
       "      <td>71</td>\n",
       "    </tr>\n",
       "    <tr>\n",
       "      <th>2</th>\n",
       "      <td>Documentary</td>\n",
       "      <td>70</td>\n",
       "    </tr>\n",
       "    <tr>\n",
       "      <th>3</th>\n",
       "      <td>Reality</td>\n",
       "      <td>56</td>\n",
       "    </tr>\n",
       "    <tr>\n",
       "      <th>4</th>\n",
       "      <td>Action &amp; Adventure</td>\n",
       "      <td>43</td>\n",
       "    </tr>\n",
       "  </tbody>\n",
       "</table>\n",
       "</div>"
      ],
      "text/plain": [
       "                Genre  No of Shows\n",
       "0              Comedy           89\n",
       "1               Drama           71\n",
       "2         Documentary           70\n",
       "3             Reality           56\n",
       "4  Action & Adventure           43"
      ]
     },
     "execution_count": 79,
     "metadata": {},
     "output_type": "execute_result"
    }
   ],
   "source": [
    "# Now I will split the different Genres as we have groups so we will split and see the genres having most shows\n",
    "\n",
    "# How many streaming platforms data we have and what what streaming platform we have\n",
    "\n",
    "Over_genres = dataset[\"Genre\"].value_counts()\n",
    "\n",
    "genre_ = []\n",
    "\n",
    "\n",
    "for i in list(Over_genres.keys()):\n",
    "    #print(i.split(\",\"))\n",
    "    if len(i.split(\",\")) == 1:\n",
    "        if i != int:\n",
    "            genre_.append(i)\n",
    "    else:\n",
    "        for j in i.split(\",\"):\n",
    "                if type(j) != int:\n",
    "                    genre_.append(j)\n",
    "                    \n",
    "                \n",
    "def remove_integers(input_list):\n",
    "    return [item for item in input_list if not (isinstance(item, int) or (isinstance(item, str) and item.lstrip('-').isdigit()))]\n",
    "\n",
    "# Get value counts\n",
    "value_counts = pd.Series(genre_).value_counts()\n",
    "\n",
    "# Convert to DataFrame\n",
    "genre_df = value_counts.reset_index()\n",
    "genre_df.columns = ['Genre', 'No of Shows']\n",
    "\n",
    "genre_df.head()"
   ]
  },
  {
   "cell_type": "code",
   "execution_count": 80,
   "metadata": {},
   "outputs": [
    {
     "data": {
      "application/vnd.plotly.v1+json": {
       "config": {
        "plotlyServerURL": "https://plot.ly"
       },
       "data": [
        {
         "alignmentgroup": "True",
         "hovertemplate": "Genre=%{x}<br>No of Shows=%{marker.color}<extra></extra>",
         "legendgroup": "",
         "marker": {
          "color": [
           89,
           71,
           70,
           56,
           43,
           32,
           30,
           26,
           25,
           22
          ],
          "coloraxis": "coloraxis",
          "pattern": {
           "shape": ""
          }
         },
         "name": "",
         "offsetgroup": "",
         "orientation": "v",
         "showlegend": false,
         "textposition": "auto",
         "type": "bar",
         "x": [
          "Comedy",
          "Drama",
          "Documentary",
          "Reality",
          "Action & Adventure",
          "Animation",
          "Game Show",
          "Crime",
          "Family",
          "Fantasy"
         ],
         "xaxis": "x",
         "y": [
          89,
          71,
          70,
          56,
          43,
          32,
          30,
          26,
          25,
          22
         ],
         "yaxis": "y"
        }
       ],
       "layout": {
        "barmode": "relative",
        "coloraxis": {
         "colorbar": {
          "title": {
           "text": "No of Shows"
          }
         },
         "colorscale": [
          [
           0,
           "#30123b"
          ],
          [
           0.07142857142857142,
           "#4145ab"
          ],
          [
           0.14285714285714285,
           "#4675ed"
          ],
          [
           0.21428571428571427,
           "#39a2fc"
          ],
          [
           0.2857142857142857,
           "#1bcfd4"
          ],
          [
           0.35714285714285715,
           "#24eca6"
          ],
          [
           0.42857142857142855,
           "#61fc6c"
          ],
          [
           0.5,
           "#a4fc3b"
          ],
          [
           0.5714285714285714,
           "#d1e834"
          ],
          [
           0.6428571428571429,
           "#f3c63a"
          ],
          [
           0.7142857142857143,
           "#fe9b2d"
          ],
          [
           0.7857142857142857,
           "#f36315"
          ],
          [
           0.8571428571428571,
           "#d93806"
          ],
          [
           0.9285714285714286,
           "#b11901"
          ],
          [
           1,
           "#7a0402"
          ]
         ]
        },
        "font": {
         "size": 14
        },
        "height": 700,
        "legend": {
         "tracegroupgap": 0
        },
        "template": {
         "data": {
          "bar": [
           {
            "error_x": {
             "color": "#2a3f5f"
            },
            "error_y": {
             "color": "#2a3f5f"
            },
            "marker": {
             "line": {
              "color": "#E5ECF6",
              "width": 0.5
             },
             "pattern": {
              "fillmode": "overlay",
              "size": 10,
              "solidity": 0.2
             }
            },
            "type": "bar"
           }
          ],
          "barpolar": [
           {
            "marker": {
             "line": {
              "color": "#E5ECF6",
              "width": 0.5
             },
             "pattern": {
              "fillmode": "overlay",
              "size": 10,
              "solidity": 0.2
             }
            },
            "type": "barpolar"
           }
          ],
          "carpet": [
           {
            "aaxis": {
             "endlinecolor": "#2a3f5f",
             "gridcolor": "white",
             "linecolor": "white",
             "minorgridcolor": "white",
             "startlinecolor": "#2a3f5f"
            },
            "baxis": {
             "endlinecolor": "#2a3f5f",
             "gridcolor": "white",
             "linecolor": "white",
             "minorgridcolor": "white",
             "startlinecolor": "#2a3f5f"
            },
            "type": "carpet"
           }
          ],
          "choropleth": [
           {
            "colorbar": {
             "outlinewidth": 0,
             "ticks": ""
            },
            "type": "choropleth"
           }
          ],
          "contour": [
           {
            "colorbar": {
             "outlinewidth": 0,
             "ticks": ""
            },
            "colorscale": [
             [
              0,
              "#0d0887"
             ],
             [
              0.1111111111111111,
              "#46039f"
             ],
             [
              0.2222222222222222,
              "#7201a8"
             ],
             [
              0.3333333333333333,
              "#9c179e"
             ],
             [
              0.4444444444444444,
              "#bd3786"
             ],
             [
              0.5555555555555556,
              "#d8576b"
             ],
             [
              0.6666666666666666,
              "#ed7953"
             ],
             [
              0.7777777777777778,
              "#fb9f3a"
             ],
             [
              0.8888888888888888,
              "#fdca26"
             ],
             [
              1,
              "#f0f921"
             ]
            ],
            "type": "contour"
           }
          ],
          "contourcarpet": [
           {
            "colorbar": {
             "outlinewidth": 0,
             "ticks": ""
            },
            "type": "contourcarpet"
           }
          ],
          "heatmap": [
           {
            "colorbar": {
             "outlinewidth": 0,
             "ticks": ""
            },
            "colorscale": [
             [
              0,
              "#0d0887"
             ],
             [
              0.1111111111111111,
              "#46039f"
             ],
             [
              0.2222222222222222,
              "#7201a8"
             ],
             [
              0.3333333333333333,
              "#9c179e"
             ],
             [
              0.4444444444444444,
              "#bd3786"
             ],
             [
              0.5555555555555556,
              "#d8576b"
             ],
             [
              0.6666666666666666,
              "#ed7953"
             ],
             [
              0.7777777777777778,
              "#fb9f3a"
             ],
             [
              0.8888888888888888,
              "#fdca26"
             ],
             [
              1,
              "#f0f921"
             ]
            ],
            "type": "heatmap"
           }
          ],
          "heatmapgl": [
           {
            "colorbar": {
             "outlinewidth": 0,
             "ticks": ""
            },
            "colorscale": [
             [
              0,
              "#0d0887"
             ],
             [
              0.1111111111111111,
              "#46039f"
             ],
             [
              0.2222222222222222,
              "#7201a8"
             ],
             [
              0.3333333333333333,
              "#9c179e"
             ],
             [
              0.4444444444444444,
              "#bd3786"
             ],
             [
              0.5555555555555556,
              "#d8576b"
             ],
             [
              0.6666666666666666,
              "#ed7953"
             ],
             [
              0.7777777777777778,
              "#fb9f3a"
             ],
             [
              0.8888888888888888,
              "#fdca26"
             ],
             [
              1,
              "#f0f921"
             ]
            ],
            "type": "heatmapgl"
           }
          ],
          "histogram": [
           {
            "marker": {
             "pattern": {
              "fillmode": "overlay",
              "size": 10,
              "solidity": 0.2
             }
            },
            "type": "histogram"
           }
          ],
          "histogram2d": [
           {
            "colorbar": {
             "outlinewidth": 0,
             "ticks": ""
            },
            "colorscale": [
             [
              0,
              "#0d0887"
             ],
             [
              0.1111111111111111,
              "#46039f"
             ],
             [
              0.2222222222222222,
              "#7201a8"
             ],
             [
              0.3333333333333333,
              "#9c179e"
             ],
             [
              0.4444444444444444,
              "#bd3786"
             ],
             [
              0.5555555555555556,
              "#d8576b"
             ],
             [
              0.6666666666666666,
              "#ed7953"
             ],
             [
              0.7777777777777778,
              "#fb9f3a"
             ],
             [
              0.8888888888888888,
              "#fdca26"
             ],
             [
              1,
              "#f0f921"
             ]
            ],
            "type": "histogram2d"
           }
          ],
          "histogram2dcontour": [
           {
            "colorbar": {
             "outlinewidth": 0,
             "ticks": ""
            },
            "colorscale": [
             [
              0,
              "#0d0887"
             ],
             [
              0.1111111111111111,
              "#46039f"
             ],
             [
              0.2222222222222222,
              "#7201a8"
             ],
             [
              0.3333333333333333,
              "#9c179e"
             ],
             [
              0.4444444444444444,
              "#bd3786"
             ],
             [
              0.5555555555555556,
              "#d8576b"
             ],
             [
              0.6666666666666666,
              "#ed7953"
             ],
             [
              0.7777777777777778,
              "#fb9f3a"
             ],
             [
              0.8888888888888888,
              "#fdca26"
             ],
             [
              1,
              "#f0f921"
             ]
            ],
            "type": "histogram2dcontour"
           }
          ],
          "mesh3d": [
           {
            "colorbar": {
             "outlinewidth": 0,
             "ticks": ""
            },
            "type": "mesh3d"
           }
          ],
          "parcoords": [
           {
            "line": {
             "colorbar": {
              "outlinewidth": 0,
              "ticks": ""
             }
            },
            "type": "parcoords"
           }
          ],
          "pie": [
           {
            "automargin": true,
            "type": "pie"
           }
          ],
          "scatter": [
           {
            "fillpattern": {
             "fillmode": "overlay",
             "size": 10,
             "solidity": 0.2
            },
            "type": "scatter"
           }
          ],
          "scatter3d": [
           {
            "line": {
             "colorbar": {
              "outlinewidth": 0,
              "ticks": ""
             }
            },
            "marker": {
             "colorbar": {
              "outlinewidth": 0,
              "ticks": ""
             }
            },
            "type": "scatter3d"
           }
          ],
          "scattercarpet": [
           {
            "marker": {
             "colorbar": {
              "outlinewidth": 0,
              "ticks": ""
             }
            },
            "type": "scattercarpet"
           }
          ],
          "scattergeo": [
           {
            "marker": {
             "colorbar": {
              "outlinewidth": 0,
              "ticks": ""
             }
            },
            "type": "scattergeo"
           }
          ],
          "scattergl": [
           {
            "marker": {
             "colorbar": {
              "outlinewidth": 0,
              "ticks": ""
             }
            },
            "type": "scattergl"
           }
          ],
          "scattermapbox": [
           {
            "marker": {
             "colorbar": {
              "outlinewidth": 0,
              "ticks": ""
             }
            },
            "type": "scattermapbox"
           }
          ],
          "scatterpolar": [
           {
            "marker": {
             "colorbar": {
              "outlinewidth": 0,
              "ticks": ""
             }
            },
            "type": "scatterpolar"
           }
          ],
          "scatterpolargl": [
           {
            "marker": {
             "colorbar": {
              "outlinewidth": 0,
              "ticks": ""
             }
            },
            "type": "scatterpolargl"
           }
          ],
          "scatterternary": [
           {
            "marker": {
             "colorbar": {
              "outlinewidth": 0,
              "ticks": ""
             }
            },
            "type": "scatterternary"
           }
          ],
          "surface": [
           {
            "colorbar": {
             "outlinewidth": 0,
             "ticks": ""
            },
            "colorscale": [
             [
              0,
              "#0d0887"
             ],
             [
              0.1111111111111111,
              "#46039f"
             ],
             [
              0.2222222222222222,
              "#7201a8"
             ],
             [
              0.3333333333333333,
              "#9c179e"
             ],
             [
              0.4444444444444444,
              "#bd3786"
             ],
             [
              0.5555555555555556,
              "#d8576b"
             ],
             [
              0.6666666666666666,
              "#ed7953"
             ],
             [
              0.7777777777777778,
              "#fb9f3a"
             ],
             [
              0.8888888888888888,
              "#fdca26"
             ],
             [
              1,
              "#f0f921"
             ]
            ],
            "type": "surface"
           }
          ],
          "table": [
           {
            "cells": {
             "fill": {
              "color": "#EBF0F8"
             },
             "line": {
              "color": "white"
             }
            },
            "header": {
             "fill": {
              "color": "#C8D4E3"
             },
             "line": {
              "color": "white"
             }
            },
            "type": "table"
           }
          ]
         },
         "layout": {
          "annotationdefaults": {
           "arrowcolor": "#2a3f5f",
           "arrowhead": 0,
           "arrowwidth": 1
          },
          "autotypenumbers": "strict",
          "coloraxis": {
           "colorbar": {
            "outlinewidth": 0,
            "ticks": ""
           }
          },
          "colorscale": {
           "diverging": [
            [
             0,
             "#8e0152"
            ],
            [
             0.1,
             "#c51b7d"
            ],
            [
             0.2,
             "#de77ae"
            ],
            [
             0.3,
             "#f1b6da"
            ],
            [
             0.4,
             "#fde0ef"
            ],
            [
             0.5,
             "#f7f7f7"
            ],
            [
             0.6,
             "#e6f5d0"
            ],
            [
             0.7,
             "#b8e186"
            ],
            [
             0.8,
             "#7fbc41"
            ],
            [
             0.9,
             "#4d9221"
            ],
            [
             1,
             "#276419"
            ]
           ],
           "sequential": [
            [
             0,
             "#0d0887"
            ],
            [
             0.1111111111111111,
             "#46039f"
            ],
            [
             0.2222222222222222,
             "#7201a8"
            ],
            [
             0.3333333333333333,
             "#9c179e"
            ],
            [
             0.4444444444444444,
             "#bd3786"
            ],
            [
             0.5555555555555556,
             "#d8576b"
            ],
            [
             0.6666666666666666,
             "#ed7953"
            ],
            [
             0.7777777777777778,
             "#fb9f3a"
            ],
            [
             0.8888888888888888,
             "#fdca26"
            ],
            [
             1,
             "#f0f921"
            ]
           ],
           "sequentialminus": [
            [
             0,
             "#0d0887"
            ],
            [
             0.1111111111111111,
             "#46039f"
            ],
            [
             0.2222222222222222,
             "#7201a8"
            ],
            [
             0.3333333333333333,
             "#9c179e"
            ],
            [
             0.4444444444444444,
             "#bd3786"
            ],
            [
             0.5555555555555556,
             "#d8576b"
            ],
            [
             0.6666666666666666,
             "#ed7953"
            ],
            [
             0.7777777777777778,
             "#fb9f3a"
            ],
            [
             0.8888888888888888,
             "#fdca26"
            ],
            [
             1,
             "#f0f921"
            ]
           ]
          },
          "colorway": [
           "#636efa",
           "#EF553B",
           "#00cc96",
           "#ab63fa",
           "#FFA15A",
           "#19d3f3",
           "#FF6692",
           "#B6E880",
           "#FF97FF",
           "#FECB52"
          ],
          "font": {
           "color": "#2a3f5f"
          },
          "geo": {
           "bgcolor": "white",
           "lakecolor": "white",
           "landcolor": "#E5ECF6",
           "showlakes": true,
           "showland": true,
           "subunitcolor": "white"
          },
          "hoverlabel": {
           "align": "left"
          },
          "hovermode": "closest",
          "mapbox": {
           "style": "light"
          },
          "paper_bgcolor": "white",
          "plot_bgcolor": "#E5ECF6",
          "polar": {
           "angularaxis": {
            "gridcolor": "white",
            "linecolor": "white",
            "ticks": ""
           },
           "bgcolor": "#E5ECF6",
           "radialaxis": {
            "gridcolor": "white",
            "linecolor": "white",
            "ticks": ""
           }
          },
          "scene": {
           "xaxis": {
            "backgroundcolor": "#E5ECF6",
            "gridcolor": "white",
            "gridwidth": 2,
            "linecolor": "white",
            "showbackground": true,
            "ticks": "",
            "zerolinecolor": "white"
           },
           "yaxis": {
            "backgroundcolor": "#E5ECF6",
            "gridcolor": "white",
            "gridwidth": 2,
            "linecolor": "white",
            "showbackground": true,
            "ticks": "",
            "zerolinecolor": "white"
           },
           "zaxis": {
            "backgroundcolor": "#E5ECF6",
            "gridcolor": "white",
            "gridwidth": 2,
            "linecolor": "white",
            "showbackground": true,
            "ticks": "",
            "zerolinecolor": "white"
           }
          },
          "shapedefaults": {
           "line": {
            "color": "#2a3f5f"
           }
          },
          "ternary": {
           "aaxis": {
            "gridcolor": "white",
            "linecolor": "white",
            "ticks": ""
           },
           "baxis": {
            "gridcolor": "white",
            "linecolor": "white",
            "ticks": ""
           },
           "bgcolor": "#E5ECF6",
           "caxis": {
            "gridcolor": "white",
            "linecolor": "white",
            "ticks": ""
           }
          },
          "title": {
           "x": 0.05
          },
          "xaxis": {
           "automargin": true,
           "gridcolor": "white",
           "linecolor": "white",
           "ticks": "",
           "title": {
            "standoff": 15
           },
           "zerolinecolor": "white",
           "zerolinewidth": 2
          },
          "yaxis": {
           "automargin": true,
           "gridcolor": "white",
           "linecolor": "white",
           "ticks": "",
           "title": {
            "standoff": 15
           },
           "zerolinecolor": "white",
           "zerolinewidth": 2
          }
         }
        },
        "title": {
         "font": {
          "size": 24
         },
         "text": "Top 10 Genres with Most No of Shows"
        },
        "width": 1400,
        "xaxis": {
         "anchor": "y",
         "domain": [
          0,
          1
         ],
         "title": {
          "text": "Genre"
         }
        },
        "yaxis": {
         "anchor": "x",
         "domain": [
          0,
          1
         ],
         "title": {
          "text": "Number of Shows"
         }
        }
       }
      }
     },
     "metadata": {},
     "output_type": "display_data"
    }
   ],
   "source": [
    "\n",
    "\n",
    "\n",
    "# Create an interactive bar chart using Plotly Express\n",
    "fig = px.bar(\n",
    "    genre_df.head(10),\n",
    "    x=\"Genre\",\n",
    "    y=\"No of Shows\",\n",
    "    title=\"Top 10 Genres with Most No of Shows\",\n",
    "    color=\"No of Shows\",  # Use Count to dynamically color the bars\n",
    "    color_continuous_scale=\"turbo\",  # Interactive color scheme\n",
    "    labels={\"Count\": \"Number of Shows\", \"Genre\": \"Genre\"},\n",
    ")\n",
    "\n",
    "# Customize layout\n",
    "fig.update_layout(\n",
    "    xaxis_title=\"Genre\",\n",
    "    yaxis_title=\"Number of Shows\",\n",
    "    title_font=dict(size=24),\n",
    "    font=dict(size=14),\n",
    "    width=1400,\n",
    "    height=700,\n",
    ")\n",
    "\n",
    "# Show the interactive chart\n",
    "fig.show()\n"
   ]
  },
  {
   "cell_type": "code",
   "execution_count": 81,
   "metadata": {},
   "outputs": [
    {
     "name": "stdout",
     "output_type": "stream",
     "text": [
      "<class 'pandas.core.frame.DataFrame'>\n",
      "Index: 5996 entries, 1 to 12343\n",
      "Data columns (total 9 columns):\n",
      " #   Column              Non-Null Count  Dtype  \n",
      "---  ------              --------------  -----  \n",
      " 0   Series Title        5996 non-null   object \n",
      " 1   Year Released       5996 non-null   int64  \n",
      " 2   Content Rating      5996 non-null   int64  \n",
      " 3   IMDB Rating         5996 non-null   float64\n",
      " 4   R Rating            5996 non-null   int64  \n",
      " 5   Genre               5996 non-null   object \n",
      " 6   Description         5996 non-null   object \n",
      " 7   No of Seasons       5996 non-null   object \n",
      " 8   Streaming Platform  5996 non-null   object \n",
      "dtypes: float64(1), int64(3), object(5)\n",
      "memory usage: 468.4+ KB\n"
     ]
    }
   ],
   "source": [
    "dataset.info()"
   ]
  },
  {
   "cell_type": "code",
   "execution_count": 82,
   "metadata": {},
   "outputs": [
    {
     "data": {
      "text/html": [
       "<div>\n",
       "<style scoped>\n",
       "    .dataframe tbody tr th:only-of-type {\n",
       "        vertical-align: middle;\n",
       "    }\n",
       "\n",
       "    .dataframe tbody tr th {\n",
       "        vertical-align: top;\n",
       "    }\n",
       "\n",
       "    .dataframe thead th {\n",
       "        text-align: right;\n",
       "    }\n",
       "</style>\n",
       "<table border=\"1\" class=\"dataframe\">\n",
       "  <thead>\n",
       "    <tr style=\"text-align: right;\">\n",
       "      <th></th>\n",
       "      <th>IMDB Rating</th>\n",
       "      <th>No of Seasons</th>\n",
       "    </tr>\n",
       "  </thead>\n",
       "  <tbody>\n",
       "    <tr>\n",
       "      <th>IMDB Rating</th>\n",
       "      <td>1.000000</td>\n",
       "      <td>0.028076</td>\n",
       "    </tr>\n",
       "    <tr>\n",
       "      <th>No of Seasons</th>\n",
       "      <td>0.028076</td>\n",
       "      <td>1.000000</td>\n",
       "    </tr>\n",
       "  </tbody>\n",
       "</table>\n",
       "</div>"
      ],
      "text/plain": [
       "               IMDB Rating  No of Seasons\n",
       "IMDB Rating       1.000000       0.028076\n",
       "No of Seasons     0.028076       1.000000"
      ]
     },
     "execution_count": 82,
     "metadata": {},
     "output_type": "execute_result"
    }
   ],
   "source": [
    "# Now lets get more deep into the analysis and see the corealtion between rating and no os seasons\n",
    "\n",
    "rating_df = dataset[[\"IMDB Rating\",\"No of Seasons\"]]\n",
    "\n",
    "rating_df.corr()"
   ]
  },
  {
   "cell_type": "code",
   "execution_count": null,
   "metadata": {},
   "outputs": [],
   "source": []
  },
  {
   "cell_type": "code",
   "execution_count": 83,
   "metadata": {},
   "outputs": [
    {
     "data": {
      "text/plain": [
       "'def interactive_recommendation(df):\\n    # Step 1: Define mood-to-genre mapping\\n    mood_genre_mapping = {\\n        \\'excited\\': [\\'Action\\', \\'Thriller\\'],\\n        \\'happy\\': [\\'Comedy\\', \\'Romance\\'],\\n        \\'relaxed\\': [\\'Drama\\', \\'Documentary\\'],\\n        \\'adventurous\\': [\\'Adventure\\', \\'Fantasy\\'],\\n        \\'scared\\': [\\'Horror\\', \\'Mystery\\']\\n    }\\n    \\n    # Step 2: Ask for the user\\'s mood\\n    print(\"🎥 Welcome to the Movie Recommender! 🎬\")\\n    print(\"🌈 Moods available:\", \", \".join(mood_genre_mapping.keys()))\\n    user_mood = input(\"😊 How are you feeling today? Enter your mood (e.g., excited, happy): \").strip().lower()\\n    \\n    # Step 3: Suggest genres based on mood\\n    if user_mood not in mood_genre_mapping:\\n        print(\"🚫 Sorry, mood not recognized! Please choose from:\", \", \".join(mood_genre_mapping.keys()))\\n        return\\n    \\n    suggested_genres = mood_genre_mapping[user_mood]\\n    print(f\"✨ Based on your mood, you might enjoy these genres: {\\', \\'.join(suggested_genres)}\")\\n    user_genre = input(f\"🎭 Pick a genre from these options ({\\', \\'.join(suggested_genres)}): \").strip().capitalize()\\n    \\n    # Step 4: Ask for the preferred streaming platform\\n    platforms = df[\\'Streaming Platform\\'].unique()\\n    print(\"📺 Streaming platforms available:\", \", \".join(platforms))\\n    user_platform = input(\"🌐 Where do you prefer to watch? Enter a platform (e.g., Netflix, Hulu): \").strip().capitalize()\\n    \\n    # Step 5: Filter movies based on user inputs\\n    filtered_df = df[\\n        (df[\\'Genre\\'].str.contains(user_genre, case=False, na=False)) &\\n        (df[\\'Streaming Platform\\'].str.contains(user_platform, case=False, na=False))\\n    ]\\n    \\n    if filtered_df.empty:\\n        print(\"😞 No movies found matching your criteria! Try another combination. 🔄\")\\n        return\\n    \\n    # Step 6: Recommend top 5 movies based on IMDb rating\\n    recommendations = filtered_df.sort_values(by=\\'IMDB Rating\\', ascending=False).head(5)\\n    print(\"\\n🍿 Here are the top 5 movies for you:\")\\n    for idx, row in recommendations.iterrows():\\n        print(f\"🎬 {row[\\'Series Title\\']} ({row[\\'Year Released\\']}), IMDb Rating: ⭐ {row[\\'IMDB Rating\\']}\")\\n\\ninteractive_recommendation(dataset)\\n'"
      ]
     },
     "execution_count": 83,
     "metadata": {},
     "output_type": "execute_result"
    }
   ],
   "source": [
    "\"\"\"def interactive_recommendation(df):\n",
    "    # Step 1: Define mood-to-genre mapping\n",
    "    mood_genre_mapping = {\n",
    "        'excited': ['Action', 'Thriller'],\n",
    "        'happy': ['Comedy', 'Romance'],\n",
    "        'relaxed': ['Drama', 'Documentary'],\n",
    "        'adventurous': ['Adventure', 'Fantasy'],\n",
    "        'scared': ['Horror', 'Mystery']\n",
    "    }\n",
    "    \n",
    "    # Step 2: Ask for the user's mood\n",
    "    print(\"🎥 Welcome to the Movie Recommender! 🎬\")\n",
    "    print(\"🌈 Moods available:\", \", \".join(mood_genre_mapping.keys()))\n",
    "    user_mood = input(\"😊 How are you feeling today? Enter your mood (e.g., excited, happy): \").strip().lower()\n",
    "    \n",
    "    # Step 3: Suggest genres based on mood\n",
    "    if user_mood not in mood_genre_mapping:\n",
    "        print(\"🚫 Sorry, mood not recognized! Please choose from:\", \", \".join(mood_genre_mapping.keys()))\n",
    "        return\n",
    "    \n",
    "    suggested_genres = mood_genre_mapping[user_mood]\n",
    "    print(f\"✨ Based on your mood, you might enjoy these genres: {', '.join(suggested_genres)}\")\n",
    "    user_genre = input(f\"🎭 Pick a genre from these options ({', '.join(suggested_genres)}): \").strip().capitalize()\n",
    "    \n",
    "    # Step 4: Ask for the preferred streaming platform\n",
    "    platforms = df['Streaming Platform'].unique()\n",
    "    print(\"📺 Streaming platforms available:\", \", \".join(platforms))\n",
    "    user_platform = input(\"🌐 Where do you prefer to watch? Enter a platform (e.g., Netflix, Hulu): \").strip().capitalize()\n",
    "    \n",
    "    # Step 5: Filter movies based on user inputs\n",
    "    filtered_df = df[\n",
    "        (df['Genre'].str.contains(user_genre, case=False, na=False)) &\n",
    "        (df['Streaming Platform'].str.contains(user_platform, case=False, na=False))\n",
    "    ]\n",
    "    \n",
    "    if filtered_df.empty:\n",
    "        print(\"😞 No movies found matching your criteria! Try another combination. 🔄\")\n",
    "        return\n",
    "    \n",
    "    # Step 6: Recommend top 5 movies based on IMDb rating\n",
    "    recommendations = filtered_df.sort_values(by='IMDB Rating', ascending=False).head(5)\n",
    "    print(\"\\n🍿 Here are the top 5 movies for you:\")\n",
    "    for idx, row in recommendations.iterrows():\n",
    "        print(f\"🎬 {row['Series Title']} ({row['Year Released']}), IMDb Rating: ⭐ {row['IMDB Rating']}\")\n",
    "\n",
    "interactive_recommendation(dataset)\n",
    "\"\"\""
   ]
  }
 ],
 "metadata": {
  "kernelspec": {
   "display_name": "base",
   "language": "python",
   "name": "python3"
  },
  "language_info": {
   "codemirror_mode": {
    "name": "ipython",
    "version": 3
   },
   "file_extension": ".py",
   "mimetype": "text/x-python",
   "name": "python",
   "nbconvert_exporter": "python",
   "pygments_lexer": "ipython3",
   "version": "3.9.18"
  }
 },
 "nbformat": 4,
 "nbformat_minor": 2
}
